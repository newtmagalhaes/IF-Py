{
 "cells": [
  {
   "cell_type": "markdown",
   "metadata": {},
   "source": [
    "# Insertion Sort\n",
    "\n",
    "## Importando bibliotecas"
   ]
  },
  {
   "cell_type": "code",
   "execution_count": 1,
   "metadata": {},
   "outputs": [],
   "source": [
    "import numpy as np\n",
    "from time import perf_counter\n",
    "from pandas import DataFrame\n",
    "from seaborn import pointplot, set_style\n",
    "\n",
    "# Constante\n",
    "LISTA_DE_TAMANHOS = np.array([1000, 2000, 3000,\n",
    "                              4000, 5000, 8000,\n",
    "                              11_000, 15_000])"
   ]
  },
  {
   "cell_type": "markdown",
   "metadata": {},
   "source": [
    "## Algoritmo"
   ]
  },
  {
   "cell_type": "code",
   "execution_count": 2,
   "metadata": {},
   "outputs": [],
   "source": [
    "def insertion(arr:'np.ndarray[float]') -> None:\n",
    "  \"\"\"\n",
    "  Insertion Sort\n",
    "  ---\n",
    "  Em cada iteração i, troca o elemento arr[i]\n",
    "  de posição com o anterior caso este seja maior,\n",
    "  esse processo acaba ao chegar no início do array\n",
    "  ou o elemento anterior não ser maior que o da iteração.\n",
    "  \"\"\"\n",
    "  n = len(arr)\n",
    "  if n > 1:\n",
    "    for i in range(1, n):\n",
    "      atual = arr[i]\n",
    "      j = i - 1\n",
    "      while j >= 0 and arr[j] > atual:\n",
    "        arr[j+1] = arr[j]\n",
    "        j -= 1\n",
    "      arr[j+1] = atual"
   ]
  },
  {
   "cell_type": "markdown",
   "metadata": {},
   "source": [
    "## Bateria de testes de desempenho"
   ]
  },
  {
   "cell_type": "code",
   "execution_count": 3,
   "metadata": {},
   "outputs": [
    {
     "data": {
      "text/html": [
       "<style  type=\"text/css\" >\n",
       "</style><table id=\"T_edd12c0c_ae25_11ec_89c3_19a99e241196\" ><thead>    <tr>        <th class=\"col_heading level0 col0\" >crescente</th>        <th class=\"col_heading level0 col1\" >aleatoria</th>        <th class=\"col_heading level0 col2\" >decrescente</th>        <th class=\"col_heading level0 col3\" >tamanhos</th>    </tr></thead><tbody>\n",
       "                <tr>\n",
       "                                <td id=\"T_edd12c0c_ae25_11ec_89c3_19a99e241196row0_col0\" class=\"data row0 col0\" >0.001062</td>\n",
       "                        <td id=\"T_edd12c0c_ae25_11ec_89c3_19a99e241196row0_col1\" class=\"data row0 col1\" >0.145903</td>\n",
       "                        <td id=\"T_edd12c0c_ae25_11ec_89c3_19a99e241196row0_col2\" class=\"data row0 col2\" >0.543614</td>\n",
       "                        <td id=\"T_edd12c0c_ae25_11ec_89c3_19a99e241196row0_col3\" class=\"data row0 col3\" >1000</td>\n",
       "            </tr>\n",
       "            <tr>\n",
       "                                <td id=\"T_edd12c0c_ae25_11ec_89c3_19a99e241196row1_col0\" class=\"data row1 col0\" >0.002088</td>\n",
       "                        <td id=\"T_edd12c0c_ae25_11ec_89c3_19a99e241196row1_col1\" class=\"data row1 col1\" >0.618173</td>\n",
       "                        <td id=\"T_edd12c0c_ae25_11ec_89c3_19a99e241196row1_col2\" class=\"data row1 col2\" >1.796599</td>\n",
       "                        <td id=\"T_edd12c0c_ae25_11ec_89c3_19a99e241196row1_col3\" class=\"data row1 col3\" >2000</td>\n",
       "            </tr>\n",
       "            <tr>\n",
       "                                <td id=\"T_edd12c0c_ae25_11ec_89c3_19a99e241196row2_col0\" class=\"data row2 col0\" >0.003438</td>\n",
       "                        <td id=\"T_edd12c0c_ae25_11ec_89c3_19a99e241196row2_col1\" class=\"data row2 col1\" >1.754394</td>\n",
       "                        <td id=\"T_edd12c0c_ae25_11ec_89c3_19a99e241196row2_col2\" class=\"data row2 col2\" >2.826869</td>\n",
       "                        <td id=\"T_edd12c0c_ae25_11ec_89c3_19a99e241196row2_col3\" class=\"data row2 col3\" >3000</td>\n",
       "            </tr>\n",
       "            <tr>\n",
       "                                <td id=\"T_edd12c0c_ae25_11ec_89c3_19a99e241196row3_col0\" class=\"data row3 col0\" >0.004313</td>\n",
       "                        <td id=\"T_edd12c0c_ae25_11ec_89c3_19a99e241196row3_col1\" class=\"data row3 col1\" >3.118335</td>\n",
       "                        <td id=\"T_edd12c0c_ae25_11ec_89c3_19a99e241196row3_col2\" class=\"data row3 col2\" >5.086712</td>\n",
       "                        <td id=\"T_edd12c0c_ae25_11ec_89c3_19a99e241196row3_col3\" class=\"data row3 col3\" >4000</td>\n",
       "            </tr>\n",
       "            <tr>\n",
       "                                <td id=\"T_edd12c0c_ae25_11ec_89c3_19a99e241196row4_col0\" class=\"data row4 col0\" >0.005508</td>\n",
       "                        <td id=\"T_edd12c0c_ae25_11ec_89c3_19a99e241196row4_col1\" class=\"data row4 col1\" >3.673085</td>\n",
       "                        <td id=\"T_edd12c0c_ae25_11ec_89c3_19a99e241196row4_col2\" class=\"data row4 col2\" >7.435455</td>\n",
       "                        <td id=\"T_edd12c0c_ae25_11ec_89c3_19a99e241196row4_col3\" class=\"data row4 col3\" >5000</td>\n",
       "            </tr>\n",
       "            <tr>\n",
       "                                <td id=\"T_edd12c0c_ae25_11ec_89c3_19a99e241196row5_col0\" class=\"data row5 col0\" >0.008749</td>\n",
       "                        <td id=\"T_edd12c0c_ae25_11ec_89c3_19a99e241196row5_col1\" class=\"data row5 col1\" >9.063453</td>\n",
       "                        <td id=\"T_edd12c0c_ae25_11ec_89c3_19a99e241196row5_col2\" class=\"data row5 col2\" >19.458687</td>\n",
       "                        <td id=\"T_edd12c0c_ae25_11ec_89c3_19a99e241196row5_col3\" class=\"data row5 col3\" >8000</td>\n",
       "            </tr>\n",
       "            <tr>\n",
       "                                <td id=\"T_edd12c0c_ae25_11ec_89c3_19a99e241196row6_col0\" class=\"data row6 col0\" >0.012057</td>\n",
       "                        <td id=\"T_edd12c0c_ae25_11ec_89c3_19a99e241196row6_col1\" class=\"data row6 col1\" >17.309057</td>\n",
       "                        <td id=\"T_edd12c0c_ae25_11ec_89c3_19a99e241196row6_col2\" class=\"data row6 col2\" >35.750987</td>\n",
       "                        <td id=\"T_edd12c0c_ae25_11ec_89c3_19a99e241196row6_col3\" class=\"data row6 col3\" >11000</td>\n",
       "            </tr>\n",
       "            <tr>\n",
       "                                <td id=\"T_edd12c0c_ae25_11ec_89c3_19a99e241196row7_col0\" class=\"data row7 col0\" >0.011713</td>\n",
       "                        <td id=\"T_edd12c0c_ae25_11ec_89c3_19a99e241196row7_col1\" class=\"data row7 col1\" >40.026627</td>\n",
       "                        <td id=\"T_edd12c0c_ae25_11ec_89c3_19a99e241196row7_col2\" class=\"data row7 col2\" >65.914177</td>\n",
       "                        <td id=\"T_edd12c0c_ae25_11ec_89c3_19a99e241196row7_col3\" class=\"data row7 col3\" >15000</td>\n",
       "            </tr>\n",
       "    </tbody></table>"
      ],
      "text/plain": [
       "<pandas.io.formats.style.Styler at 0x7f853ba10f50>"
      ]
     },
     "execution_count": 3,
     "metadata": {},
     "output_type": "execute_result"
    }
   ],
   "source": [
    "data = dict()\n",
    "\n",
    "for ordem in ['crescente', 'aleatoria', 'decrescente']:\n",
    "  tempos = list()\n",
    "  for tamanho in LISTA_DE_TAMANHOS:\n",
    "    # Gerando amostra do teste\n",
    "    if ordem == 'crescente':\n",
    "      amostra = np.arange(tamanho, dtype=float)\n",
    "    elif ordem == 'decrescente':\n",
    "      amostra = np.arange(tamanho, dtype=float)[::-1].copy()\n",
    "    else:\n",
    "      amostra = np.random.sample(tamanho)\n",
    "    \n",
    "    # testando performance\n",
    "    start = perf_counter()\n",
    "    insertion(amostra)\n",
    "    stop = perf_counter()\n",
    "    \n",
    "    # salvando resultado\n",
    "    tempos.append(stop - start)\n",
    "  data[ordem] = tempos\n",
    "data['tamanhos'] = LISTA_DE_TAMANHOS\n",
    "\n",
    "df = DataFrame(data=data)\n",
    "df.style.hide_index()"
   ]
  },
  {
   "cell_type": "markdown",
   "metadata": {},
   "source": [
    "## Resultados"
   ]
  },
  {
   "cell_type": "code",
   "execution_count": 4,
   "metadata": {},
   "outputs": [
    {
     "name": "stdout",
     "output_type": "stream",
     "text": [
      "O pior caso é quando a lista se encontra ordenada de forma decrescente\n"
     ]
    },
    {
     "data": {
      "image/png": "[encoded data removed]",
      "text/plain": [
       "<Figure size 432x288 with 1 Axes>"
      ]
     },
     "metadata": {},
     "output_type": "display_data"
    }
   ],
   "source": [
    "# Remodela o dataframe para uma versão longa mais fácil de plotar\n",
    "long_df = df.melt(id_vars='tamanhos', var_name='ordenação', value_name='tempos')\n",
    "\n",
    "set_style('darkgrid')\n",
    "pointplot(\n",
    "  data=long_df,\n",
    "  x='tamanhos',\n",
    "  y='tempos',\n",
    "  hue='ordenação',\n",
    "  ).set(\n",
    "    xlabel='tamanho da amostra',\n",
    "    ylabel='tempo (s)',\n",
    "    title='TAMANHO DA LISTA X TEMPO DE ORDENAMENTO')\n",
    "\n",
    "ordem = long_df.sort_values(by='tempos', ascending=False)['ordenação'].values[0]\n",
    "print(f'O pior caso é quando a lista se encontra ordenada de forma {ordem}')"
   ]
  }
 ],
 "metadata": {
  "interpreter": {
   "hash": "693016dc5ced5e46019455416070247f0b819cdf42749c2078471f2d23992d13"
  },
  "kernelspec": {
   "display_name": "Python 3.7.6 ('base')",
   "language": "python",
   "name": "python3"
  },
  "language_info": {
   "codemirror_mode": {
    "name": "ipython",
    "version": 3
   },
   "file_extension": ".py",
   "mimetype": "text/x-python",
   "name": "python",
   "nbconvert_exporter": "python",
   "pygments_lexer": "ipython3",
   "version": "3.7.6"
  },
  "orig_nbformat": 4
 },
 "nbformat": 4,
 "nbformat_minor": 2
}
