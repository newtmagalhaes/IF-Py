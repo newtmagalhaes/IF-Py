{
 "cells": [
  {
   "cell_type": "markdown",
   "metadata": {},
   "source": [
    "# Heap Sort\n",
    "\n",
    "## Importando bibliotecas"
   ]
  },
  {
   "cell_type": "code",
   "execution_count": 1,
   "metadata": {},
   "outputs": [],
   "source": [
    "import numpy as np\n",
    "from time import perf_counter\n",
    "from pandas import DataFrame\n",
    "from seaborn import pointplot, set_style\n",
    "\n",
    "# Constante\n",
    "LISTA_DE_TAMANHOS = np.array([1000, 2000, 3000,\n",
    "                              4000, 5000, 8000,\n",
    "                              11_000, 15_000])"
   ]
  },
  {
   "cell_type": "markdown",
   "metadata": {},
   "source": [
    "## Algoritmo"
   ]
  },
  {
   "cell_type": "code",
   "execution_count": 2,
   "metadata": {},
   "outputs": [],
   "source": [
    "def _heapify(heap:np.ndarray, start:int, max_pos:int):  \n",
    "  pai = start\n",
    "  while True:\n",
    "    filho = 2 * pai + 1\n",
    "    if filho > max_pos:\n",
    "      break\n",
    "\n",
    "    # Se ambos os filhos são posições válidas\n",
    "    if filho + 1 <= max_pos and heap[filho] < heap[filho + 1]:\n",
    "      filho += 1 # indica o maior filho\n",
    "    \n",
    "    if heap[pai] < heap[filho]:\n",
    "      heap[pai], heap[filho] = heap[filho], heap[pai]\n",
    "      pai = filho\n",
    "    else:\n",
    "      break\n",
    "\n",
    "\n",
    "def in_place_heap(arr:np.ndarray):\n",
    "  \"\"\"In-place Heap sort\n",
    "  =====================\n",
    "  Utilizando uma heap máxima (o maior elemento fica na raiz).\n",
    "  \"\"\"\n",
    "  N = len(arr)\n",
    "\n",
    "  # range((len(lst)-2)/2, -1, -1) # da metade de arr até o início\n",
    "  for start in range((N-2)//2).__reversed__():\n",
    "    _heapify(arr, start, N-1)\n",
    " \n",
    "  for end in range(N-1, 0, -1):\n",
    "    arr[end], arr[0] = arr[0], arr[end]\n",
    "    _heapify(arr, 0, end - 1)"
   ]
  },
  {
   "cell_type": "markdown",
   "metadata": {},
   "source": [
    "## Bateria de testes de desempenho"
   ]
  },
  {
   "cell_type": "code",
   "execution_count": 3,
   "metadata": {},
   "outputs": [
    {
     "data": {
      "text/html": [
       "<style  type=\"text/css\" >\n",
       "</style><table id=\"T_4ce1d708_b684_11ec_8462_a167b571f8d9\" ><thead>    <tr>        <th class=\"col_heading level0 col0\" >crescente</th>        <th class=\"col_heading level0 col1\" >aleatoria</th>        <th class=\"col_heading level0 col2\" >decrescente</th>        <th class=\"col_heading level0 col3\" >tamanhos</th>    </tr></thead><tbody>\n",
       "                <tr>\n",
       "                                <td id=\"T_4ce1d708_b684_11ec_8462_a167b571f8d9row0_col0\" class=\"data row0 col0\" >0.027229</td>\n",
       "                        <td id=\"T_4ce1d708_b684_11ec_8462_a167b571f8d9row0_col1\" class=\"data row0 col1\" >0.015122</td>\n",
       "                        <td id=\"T_4ce1d708_b684_11ec_8462_a167b571f8d9row0_col2\" class=\"data row0 col2\" >0.015088</td>\n",
       "                        <td id=\"T_4ce1d708_b684_11ec_8462_a167b571f8d9row0_col3\" class=\"data row0 col3\" >1000</td>\n",
       "            </tr>\n",
       "            <tr>\n",
       "                                <td id=\"T_4ce1d708_b684_11ec_8462_a167b571f8d9row1_col0\" class=\"data row1 col0\" >0.069047</td>\n",
       "                        <td id=\"T_4ce1d708_b684_11ec_8462_a167b571f8d9row1_col1\" class=\"data row1 col1\" >0.032000</td>\n",
       "                        <td id=\"T_4ce1d708_b684_11ec_8462_a167b571f8d9row1_col2\" class=\"data row1 col2\" >0.029332</td>\n",
       "                        <td id=\"T_4ce1d708_b684_11ec_8462_a167b571f8d9row1_col3\" class=\"data row1 col3\" >2000</td>\n",
       "            </tr>\n",
       "            <tr>\n",
       "                                <td id=\"T_4ce1d708_b684_11ec_8462_a167b571f8d9row2_col0\" class=\"data row2 col0\" >0.067271</td>\n",
       "                        <td id=\"T_4ce1d708_b684_11ec_8462_a167b571f8d9row2_col1\" class=\"data row2 col1\" >0.051131</td>\n",
       "                        <td id=\"T_4ce1d708_b684_11ec_8462_a167b571f8d9row2_col2\" class=\"data row2 col2\" >0.054586</td>\n",
       "                        <td id=\"T_4ce1d708_b684_11ec_8462_a167b571f8d9row2_col3\" class=\"data row2 col3\" >3000</td>\n",
       "            </tr>\n",
       "            <tr>\n",
       "                                <td id=\"T_4ce1d708_b684_11ec_8462_a167b571f8d9row3_col0\" class=\"data row3 col0\" >0.072938</td>\n",
       "                        <td id=\"T_4ce1d708_b684_11ec_8462_a167b571f8d9row3_col1\" class=\"data row3 col1\" >0.066896</td>\n",
       "                        <td id=\"T_4ce1d708_b684_11ec_8462_a167b571f8d9row3_col2\" class=\"data row3 col2\" >0.090241</td>\n",
       "                        <td id=\"T_4ce1d708_b684_11ec_8462_a167b571f8d9row3_col3\" class=\"data row3 col3\" >4000</td>\n",
       "            </tr>\n",
       "            <tr>\n",
       "                                <td id=\"T_4ce1d708_b684_11ec_8462_a167b571f8d9row4_col0\" class=\"data row4 col0\" >0.103353</td>\n",
       "                        <td id=\"T_4ce1d708_b684_11ec_8462_a167b571f8d9row4_col1\" class=\"data row4 col1\" >0.101804</td>\n",
       "                        <td id=\"T_4ce1d708_b684_11ec_8462_a167b571f8d9row4_col2\" class=\"data row4 col2\" >0.087106</td>\n",
       "                        <td id=\"T_4ce1d708_b684_11ec_8462_a167b571f8d9row4_col3\" class=\"data row4 col3\" >5000</td>\n",
       "            </tr>\n",
       "            <tr>\n",
       "                                <td id=\"T_4ce1d708_b684_11ec_8462_a167b571f8d9row5_col0\" class=\"data row5 col0\" >0.153148</td>\n",
       "                        <td id=\"T_4ce1d708_b684_11ec_8462_a167b571f8d9row5_col1\" class=\"data row5 col1\" >0.147006</td>\n",
       "                        <td id=\"T_4ce1d708_b684_11ec_8462_a167b571f8d9row5_col2\" class=\"data row5 col2\" >0.152597</td>\n",
       "                        <td id=\"T_4ce1d708_b684_11ec_8462_a167b571f8d9row5_col3\" class=\"data row5 col3\" >8000</td>\n",
       "            </tr>\n",
       "            <tr>\n",
       "                                <td id=\"T_4ce1d708_b684_11ec_8462_a167b571f8d9row6_col0\" class=\"data row6 col0\" >0.216751</td>\n",
       "                        <td id=\"T_4ce1d708_b684_11ec_8462_a167b571f8d9row6_col1\" class=\"data row6 col1\" >0.211889</td>\n",
       "                        <td id=\"T_4ce1d708_b684_11ec_8462_a167b571f8d9row6_col2\" class=\"data row6 col2\" >0.203198</td>\n",
       "                        <td id=\"T_4ce1d708_b684_11ec_8462_a167b571f8d9row6_col3\" class=\"data row6 col3\" >11000</td>\n",
       "            </tr>\n",
       "            <tr>\n",
       "                                <td id=\"T_4ce1d708_b684_11ec_8462_a167b571f8d9row7_col0\" class=\"data row7 col0\" >0.327129</td>\n",
       "                        <td id=\"T_4ce1d708_b684_11ec_8462_a167b571f8d9row7_col1\" class=\"data row7 col1\" >0.297275</td>\n",
       "                        <td id=\"T_4ce1d708_b684_11ec_8462_a167b571f8d9row7_col2\" class=\"data row7 col2\" >0.295495</td>\n",
       "                        <td id=\"T_4ce1d708_b684_11ec_8462_a167b571f8d9row7_col3\" class=\"data row7 col3\" >15000</td>\n",
       "            </tr>\n",
       "    </tbody></table>"
      ],
      "text/plain": [
       "<pandas.io.formats.style.Styler at 0x7fbbd3f21950>"
      ]
     },
     "execution_count": 3,
     "metadata": {},
     "output_type": "execute_result"
    }
   ],
   "source": [
    "data = dict()\n",
    "\n",
    "for ordem in ['crescente', 'aleatoria', 'decrescente']:\n",
    "  tempos = list()\n",
    "  for tamanho in LISTA_DE_TAMANHOS:\n",
    "    # Gerando amostra do teste\n",
    "    if ordem == 'crescente':\n",
    "      amostra = np.arange(tamanho, dtype=float)\n",
    "    elif ordem == 'decrescente':\n",
    "      amostra = np.arange(tamanho, dtype=float)[::-1].copy()\n",
    "    else:\n",
    "      amostra = np.random.sample(tamanho)\n",
    "    \n",
    "    # testando performance\n",
    "    start = perf_counter()\n",
    "    in_place_heap(amostra)\n",
    "    stop = perf_counter()\n",
    "    \n",
    "    # salvando resultado\n",
    "    tempos.append(stop - start)\n",
    "  data[ordem] = tempos\n",
    "data['tamanhos'] = LISTA_DE_TAMANHOS\n",
    "\n",
    "df = DataFrame(data=data)\n",
    "df.style.hide_index()"
   ]
  },
  {
   "cell_type": "markdown",
   "metadata": {},
   "source": [
    "## Resultados"
   ]
  },
  {
   "cell_type": "code",
   "execution_count": 4,
   "metadata": {},
   "outputs": [
    {
     "name": "stdout",
     "output_type": "stream",
     "text": [
      "O pior caso é quando a lista se encontra ordenada de forma crescente\n"
     ]
    },
    {
     "data": {
      "image/png": "[encoded data removed]",
      "text/plain": [
       "<Figure size 432x288 with 1 Axes>"
      ]
     },
     "metadata": {},
     "output_type": "display_data"
    }
   ],
   "source": [
    "# Remodela o dataframe para uma versão longa mais fácil de plotar\n",
    "long_df = df.melt(id_vars='tamanhos', var_name='ordenação', value_name='tempos')\n",
    "\n",
    "set_style('darkgrid')\n",
    "pointplot(\n",
    "  data=long_df,\n",
    "  x='tamanhos',\n",
    "  y='tempos',\n",
    "  hue='ordenação',\n",
    "  ).set(\n",
    "    xlabel='tamanho da amostra',\n",
    "    ylabel='tempo (s)',\n",
    "    title='TAMANHO DA LISTA X TEMPO DE ORDENAMENTO')\n",
    "\n",
    "ordem = long_df.sort_values(by='tempos', ascending=False)['ordenação'].values[0]\n",
    "print(f'O pior caso é quando a lista se encontra ordenada de forma {ordem}')"
   ]
  }
 ],
 "metadata": {
  "interpreter": {
   "hash": "693016dc5ced5e46019455416070247f0b819cdf42749c2078471f2d23992d13"
  },
  "kernelspec": {
   "display_name": "Python 3.7.6 ('base')",
   "language": "python",
   "name": "python3"
  },
  "language_info": {
   "codemirror_mode": {
    "name": "ipython",
    "version": 3
   },
   "file_extension": ".py",
   "mimetype": "text/x-python",
   "name": "python",
   "nbconvert_exporter": "python",
   "pygments_lexer": "ipython3",
   "version": "3.7.6"
  },
  "orig_nbformat": 4
 },
 "nbformat": 4,
 "nbformat_minor": 2
}
