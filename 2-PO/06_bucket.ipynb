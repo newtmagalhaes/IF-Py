{
  "nbformat": 4,
  "nbformat_minor": 0,
  "metadata": {
    "colab": {
      "name": "06-bucket.ipynb",
      "provenance": [],
      "collapsed_sections": [],
      "authorship_tag": "ABX9TyNCQORacrO7YhEgNvSqvp0q"
    },
    "kernelspec": {
      "name": "python3",
      "display_name": "Python 3"
    },
    "language_info": {
      "name": "python"
    }
  },
  "cells": [
    {
      "cell_type": "markdown",
      "metadata": {
        "id": "G2Xj948dq0Da"
      },
      "source": [
        "# Bucket Sort\n",
        "\n",
        "## Importando bibliotecas"
      ]
    },
    {
      "cell_type": "code",
      "metadata": {
        "id": "7YbB6r38oYeY"
      },
      "source": [
        "import numpy as np\n",
        "import pandas as pd\n",
        "import seaborn as sns\n",
        "from time import perf_counter\n",
        "from matplotlib import pyplot as plt\n",
        "\n",
        "N_BALDES = 100\n",
        "\n",
        "LISTA_DE_TAMANHOS = [1000, 2000, 3000,\n",
        "                     4000, 5000, 8000,\n",
        "                     10_000]\n",
        "\n"
      ],
      "execution_count": null,
      "outputs": []
    },
    {
      "cell_type": "markdown",
      "metadata": {
        "id": "c9uIAeLlGO1N"
      },
      "source": [
        "## Algoritmo de ordenação"
      ]
    },
    {
      "cell_type": "code",
      "metadata": {
        "id": "pKvDp1nxVPs4"
      },
      "source": [
        "def _min_max(arr:np.ndarray) -> 'tuple[float, float]':\n",
        "  '''\n",
        "  Retorna o min e max de um array com um loop, apenas.\n",
        "  '''\n",
        "  min_arr, max_arr = arr[0], arr[0]\n",
        "  for e in arr:\n",
        "    if e < min_arr:\n",
        "      min_arr = e\n",
        "    if e > max_arr:\n",
        "      max_arr = e\n",
        "\n",
        "  return min_arr, max_arr\n",
        "\n",
        "def bucket_sort(\n",
        "    arr:np.ndarray,\n",
        "    n_buckets : int = N_BALDES) -> None:\n",
        "  '''\n",
        "  Bucket Sort\n",
        "  ---\n",
        "  '''\n",
        "  # Calculando variáveis\n",
        "  n_buckets = min(n_buckets, len(arr))\n",
        "\n",
        "  bucket_min, bucket_max = _min_max(arr)\n",
        "\n",
        "  # step = np.ceil((bucket_max - bucket_min) / n_buckets)\n",
        "  \n",
        "  buckets_range = np.linspace(bucket_min, bucket_max, num=n_buckets)\n",
        "  \n",
        "  buckets = {r:[] for r in buckets_range}\n",
        "\n",
        "  # Colocando elementos nos baldes\n",
        "  for e in arr:\n",
        "    for key in buckets:\n",
        "      if e <= key:\n",
        "        buckets[key].append(e)\n",
        "        break\n",
        "  \n",
        "  # Ordenando baldes\n",
        "  for key in buckets:\n",
        "    if len(buckets[key]) > 1:\n",
        "      bucket_sort(buckets[key])\n",
        "\n",
        "  # Inserindo no array em ordem correta\n",
        "  i = 0\n",
        "  for key in buckets:\n",
        "    for e in buckets[key]:\n",
        "      arr[i] = e\n",
        "      i += 1"
      ],
      "execution_count": null,
      "outputs": []
    },
    {
      "cell_type": "code",
      "metadata": {
        "colab": {
          "base_uri": "https://localhost:8080/",
          "height": 397
        },
        "id": "YezO21_WaPGI",
        "outputId": "bcac6db5-8fb6-47bf-8592-b206f235d600"
      },
      "source": [
        "test = [1, 3, 2, 9, 5, 4, 3]\n",
        "bucket_sort(test)\n",
        "test"
      ],
      "execution_count": null,
      "outputs": [
        {
          "output_type": "error",
          "ename": "RecursionError",
          "evalue": "ignored",
          "traceback": [
            "\u001b[0;31m---------------------------------------------------------------------------\u001b[0m",
            "\u001b[0;31mRecursionError\u001b[0m                            Traceback (most recent call last)",
            "\u001b[0;32m<ipython-input-11-7a2c5403fb61>\u001b[0m in \u001b[0;36m<module>\u001b[0;34m()\u001b[0m\n\u001b[1;32m      1\u001b[0m \u001b[0mtest\u001b[0m \u001b[0;34m=\u001b[0m \u001b[0;34m[\u001b[0m\u001b[0;36m1\u001b[0m\u001b[0;34m,\u001b[0m \u001b[0;36m3\u001b[0m\u001b[0;34m,\u001b[0m \u001b[0;36m2\u001b[0m\u001b[0;34m,\u001b[0m \u001b[0;36m9\u001b[0m\u001b[0;34m,\u001b[0m \u001b[0;36m5\u001b[0m\u001b[0;34m,\u001b[0m \u001b[0;36m4\u001b[0m\u001b[0;34m,\u001b[0m \u001b[0;36m3\u001b[0m\u001b[0;34m]\u001b[0m\u001b[0;34m\u001b[0m\u001b[0;34m\u001b[0m\u001b[0m\n\u001b[0;32m----> 2\u001b[0;31m \u001b[0mbucket_sort\u001b[0m\u001b[0;34m(\u001b[0m\u001b[0mtest\u001b[0m\u001b[0;34m)\u001b[0m\u001b[0;34m\u001b[0m\u001b[0;34m\u001b[0m\u001b[0m\n\u001b[0m\u001b[1;32m      3\u001b[0m \u001b[0mtest\u001b[0m\u001b[0;34m\u001b[0m\u001b[0;34m\u001b[0m\u001b[0m\n",
            "\u001b[0;32m<ipython-input-10-42e18c8c4d29>\u001b[0m in \u001b[0;36mbucket_sort\u001b[0;34m(arr, n_buckets)\u001b[0m\n\u001b[1;32m     40\u001b[0m   \u001b[0;32mfor\u001b[0m \u001b[0mkey\u001b[0m \u001b[0;32min\u001b[0m \u001b[0mbuckets\u001b[0m\u001b[0;34m:\u001b[0m\u001b[0;34m\u001b[0m\u001b[0;34m\u001b[0m\u001b[0m\n\u001b[1;32m     41\u001b[0m     \u001b[0;32mif\u001b[0m \u001b[0mlen\u001b[0m\u001b[0;34m(\u001b[0m\u001b[0mbuckets\u001b[0m\u001b[0;34m[\u001b[0m\u001b[0mkey\u001b[0m\u001b[0;34m]\u001b[0m\u001b[0;34m)\u001b[0m \u001b[0;34m>\u001b[0m \u001b[0;36m1\u001b[0m\u001b[0;34m:\u001b[0m\u001b[0;34m\u001b[0m\u001b[0;34m\u001b[0m\u001b[0m\n\u001b[0;32m---> 42\u001b[0;31m       \u001b[0mbucket_sort\u001b[0m\u001b[0;34m(\u001b[0m\u001b[0mbuckets\u001b[0m\u001b[0;34m[\u001b[0m\u001b[0mkey\u001b[0m\u001b[0;34m]\u001b[0m\u001b[0;34m)\u001b[0m\u001b[0;34m\u001b[0m\u001b[0;34m\u001b[0m\u001b[0m\n\u001b[0m\u001b[1;32m     43\u001b[0m \u001b[0;34m\u001b[0m\u001b[0m\n\u001b[1;32m     44\u001b[0m   \u001b[0;31m# Inserindo no array em ordem correta\u001b[0m\u001b[0;34m\u001b[0m\u001b[0;34m\u001b[0m\u001b[0;34m\u001b[0m\u001b[0m\n",
            "... last 1 frames repeated, from the frame below ...\n",
            "\u001b[0;32m<ipython-input-10-42e18c8c4d29>\u001b[0m in \u001b[0;36mbucket_sort\u001b[0;34m(arr, n_buckets)\u001b[0m\n\u001b[1;32m     40\u001b[0m   \u001b[0;32mfor\u001b[0m \u001b[0mkey\u001b[0m \u001b[0;32min\u001b[0m \u001b[0mbuckets\u001b[0m\u001b[0;34m:\u001b[0m\u001b[0;34m\u001b[0m\u001b[0;34m\u001b[0m\u001b[0m\n\u001b[1;32m     41\u001b[0m     \u001b[0;32mif\u001b[0m \u001b[0mlen\u001b[0m\u001b[0;34m(\u001b[0m\u001b[0mbuckets\u001b[0m\u001b[0;34m[\u001b[0m\u001b[0mkey\u001b[0m\u001b[0;34m]\u001b[0m\u001b[0;34m)\u001b[0m \u001b[0;34m>\u001b[0m \u001b[0;36m1\u001b[0m\u001b[0;34m:\u001b[0m\u001b[0;34m\u001b[0m\u001b[0;34m\u001b[0m\u001b[0m\n\u001b[0;32m---> 42\u001b[0;31m       \u001b[0mbucket_sort\u001b[0m\u001b[0;34m(\u001b[0m\u001b[0mbuckets\u001b[0m\u001b[0;34m[\u001b[0m\u001b[0mkey\u001b[0m\u001b[0;34m]\u001b[0m\u001b[0;34m)\u001b[0m\u001b[0;34m\u001b[0m\u001b[0;34m\u001b[0m\u001b[0m\n\u001b[0m\u001b[1;32m     43\u001b[0m \u001b[0;34m\u001b[0m\u001b[0m\n\u001b[1;32m     44\u001b[0m   \u001b[0;31m# Inserindo no array em ordem correta\u001b[0m\u001b[0;34m\u001b[0m\u001b[0;34m\u001b[0m\u001b[0;34m\u001b[0m\u001b[0m\n",
            "\u001b[0;31mRecursionError\u001b[0m: maximum recursion depth exceeded while calling a Python object"
          ]
        }
      ]
    },
    {
      "cell_type": "markdown",
      "metadata": {
        "id": "QUXSU2vTXEQB"
      },
      "source": [
        "## Desempenho em Caso Aleatório"
      ]
    },
    {
      "cell_type": "code",
      "metadata": {
        "id": "lfjsNM6Jbtt-"
      },
      "source": [
        "tempo_de_ordenamento_1 = []\n",
        "\n",
        "for tamanho in LISTA_DE_TAMANHOS:\n",
        "  # 'tamanho' números aleatórios dentro do intervalo [0, 1)\n",
        "  amostra = np.random.sample(tamanho)\n",
        "  start = perf_counter()\n",
        "  bucket_sort(amostra, tamanho)\n",
        "  stop = perf_counter()\n",
        "  tempo_de_ordenamento_1.append(stop - start)\n",
        "\n"
      ],
      "execution_count": null,
      "outputs": []
    },
    {
      "cell_type": "markdown",
      "metadata": {
        "id": "nY5lXgHxbl7k"
      },
      "source": [
        "## Desempenho em Pior Caso\n",
        "\n",
        "* O pior caso é quando a lista se encontra ordenada de maneira decrescente"
      ]
    },
    {
      "cell_type": "code",
      "metadata": {
        "id": "eRQYnuTieHGx"
      },
      "source": [
        "tempo_de_ordenamento_2 = []\n",
        "\n",
        "for tamanho in LISTA_DE_TAMANHOS:\n",
        "  # 'tamanho' números igualmente espaçados de 1 a 0 (nessa ordem)\n",
        "  amostra = np.linspace(1, 0, tamanho)\n",
        "  start = perf_counter()\n",
        "  bucket_sort(amostra, tamanho)\n",
        "  stop = perf_counter()\n",
        "  tempo_de_ordenamento_2.append(stop - start)"
      ],
      "execution_count": null,
      "outputs": []
    },
    {
      "cell_type": "markdown",
      "metadata": {
        "id": "Dv6ZIruMfka8"
      },
      "source": [
        "## Gráfico de desempenho"
      ]
    },
    {
      "cell_type": "code",
      "metadata": {
        "id": "MFjRgqyNfm6R"
      },
      "source": [
        "def _mini_dataframe(lista:np.ndarray, case:str) -> pd.DataFrame:\n",
        "  df = pd.DataFrame(\n",
        "      data=[LISTA_DE_TAMANHOS, lista],\n",
        "      index=['tamanho', 'tempo (s)']\n",
        "      ).transpose()\n",
        "  \n",
        "  df['caso'] = case\n",
        "  return df\n",
        "\n",
        "LISTA_DE_CASOS = ['caso aleatório', 'pior caso']\n",
        "LISTA_DE_TEMPOS = [tempo_de_ordenamento_1, tempo_de_ordenamento_2]\n",
        "\n",
        "df = pd.concat(\n",
        "    [_mini_dataframe(l, c) for l, c in zip(LISTA_DE_TEMPOS, LISTA_DE_CASOS)],\n",
        "    ignore_index=True)\n",
        "\n",
        "sns.set_style('darkgrid')\n",
        "\n",
        "sns.pointplot(\n",
        "    data=df,\n",
        "    x='tamanho',\n",
        "    y='tempo (s)',\n",
        "    hue='caso',\n",
        "    ).set(\n",
        "        title='TAMANHO DA LISTA X TEMPO DE ORDENAMENTO')\n",
        "\n",
        "df"
      ],
      "execution_count": null,
      "outputs": []
    }
  ]
}