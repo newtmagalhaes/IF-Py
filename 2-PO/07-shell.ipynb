{
 "cells": [
  {
   "cell_type": "markdown",
   "metadata": {},
   "source": [
    "# Shell Sort\n",
    "\n",
    "## Importando bibliotecas"
   ]
  },
  {
   "cell_type": "code",
   "execution_count": 1,
   "metadata": {},
   "outputs": [],
   "source": [
    "import numpy as np\n",
    "from time import perf_counter\n",
    "from pandas import DataFrame\n",
    "from seaborn import pointplot, set_style\n",
    "\n",
    "# Constante\n",
    "LISTA_DE_TAMANHOS = np.array([1000, 2000, 3000,\n",
    "                              4000, 5000, 8000,\n",
    "                              11_000, 15_000])"
   ]
  },
  {
   "cell_type": "markdown",
   "metadata": {},
   "source": [
    "## Algoritmo"
   ]
  },
  {
   "cell_type": "code",
   "execution_count": 2,
   "metadata": {},
   "outputs": [],
   "source": [
    "def shell(arr:'np.ndarray[float]'):\n",
    "  N = len(arr)\n",
    "  h = N // 2\n",
    "  while h > 0:\n",
    "    for i in range(h, N):\n",
    "      while i >= h and arr[i-h] > arr[i]:\n",
    "        arr[i], arr[i-h] = arr[i-h], arr[i]\n",
    "        i -= h\n",
    "    h //= 2"
   ]
  },
  {
   "cell_type": "markdown",
   "metadata": {},
   "source": [
    "## Bateria de testes de desempenho"
   ]
  },
  {
   "cell_type": "code",
   "execution_count": 3,
   "metadata": {},
   "outputs": [
    {
     "data": {
      "text/html": [
       "<style  type=\"text/css\" >\n",
       "</style><table id=\"T_5063f5a6_b115_11ec_bb7d_2db8c4e699bc\" ><thead>    <tr>        <th class=\"col_heading level0 col0\" >crescente</th>        <th class=\"col_heading level0 col1\" >aleatoria</th>        <th class=\"col_heading level0 col2\" >decrescente</th>        <th class=\"col_heading level0 col3\" >tamanhos</th>    </tr></thead><tbody>\n",
       "                <tr>\n",
       "                                <td id=\"T_5063f5a6_b115_11ec_bb7d_2db8c4e699bcrow0_col0\" class=\"data row0 col0\" >0.007063</td>\n",
       "                        <td id=\"T_5063f5a6_b115_11ec_bb7d_2db8c4e699bcrow0_col1\" class=\"data row0 col1\" >0.010864</td>\n",
       "                        <td id=\"T_5063f5a6_b115_11ec_bb7d_2db8c4e699bcrow0_col2\" class=\"data row0 col2\" >0.009737</td>\n",
       "                        <td id=\"T_5063f5a6_b115_11ec_bb7d_2db8c4e699bcrow0_col3\" class=\"data row0 col3\" >1000</td>\n",
       "            </tr>\n",
       "            <tr>\n",
       "                                <td id=\"T_5063f5a6_b115_11ec_bb7d_2db8c4e699bcrow1_col0\" class=\"data row1 col0\" >0.009078</td>\n",
       "                        <td id=\"T_5063f5a6_b115_11ec_bb7d_2db8c4e699bcrow1_col1\" class=\"data row1 col1\" >0.030629</td>\n",
       "                        <td id=\"T_5063f5a6_b115_11ec_bb7d_2db8c4e699bcrow1_col2\" class=\"data row1 col2\" >0.018756</td>\n",
       "                        <td id=\"T_5063f5a6_b115_11ec_bb7d_2db8c4e699bcrow1_col3\" class=\"data row1 col3\" >2000</td>\n",
       "            </tr>\n",
       "            <tr>\n",
       "                                <td id=\"T_5063f5a6_b115_11ec_bb7d_2db8c4e699bcrow2_col0\" class=\"data row2 col0\" >0.015610</td>\n",
       "                        <td id=\"T_5063f5a6_b115_11ec_bb7d_2db8c4e699bcrow2_col1\" class=\"data row2 col1\" >0.046888</td>\n",
       "                        <td id=\"T_5063f5a6_b115_11ec_bb7d_2db8c4e699bcrow2_col2\" class=\"data row2 col2\" >0.028692</td>\n",
       "                        <td id=\"T_5063f5a6_b115_11ec_bb7d_2db8c4e699bcrow2_col3\" class=\"data row2 col3\" >3000</td>\n",
       "            </tr>\n",
       "            <tr>\n",
       "                                <td id=\"T_5063f5a6_b115_11ec_bb7d_2db8c4e699bcrow3_col0\" class=\"data row3 col0\" >0.018076</td>\n",
       "                        <td id=\"T_5063f5a6_b115_11ec_bb7d_2db8c4e699bcrow3_col1\" class=\"data row3 col1\" >0.069963</td>\n",
       "                        <td id=\"T_5063f5a6_b115_11ec_bb7d_2db8c4e699bcrow3_col2\" class=\"data row3 col2\" >0.040097</td>\n",
       "                        <td id=\"T_5063f5a6_b115_11ec_bb7d_2db8c4e699bcrow3_col3\" class=\"data row3 col3\" >4000</td>\n",
       "            </tr>\n",
       "            <tr>\n",
       "                                <td id=\"T_5063f5a6_b115_11ec_bb7d_2db8c4e699bcrow4_col0\" class=\"data row4 col0\" >0.024037</td>\n",
       "                        <td id=\"T_5063f5a6_b115_11ec_bb7d_2db8c4e699bcrow4_col1\" class=\"data row4 col1\" >0.096083</td>\n",
       "                        <td id=\"T_5063f5a6_b115_11ec_bb7d_2db8c4e699bcrow4_col2\" class=\"data row4 col2\" >0.057193</td>\n",
       "                        <td id=\"T_5063f5a6_b115_11ec_bb7d_2db8c4e699bcrow4_col3\" class=\"data row4 col3\" >5000</td>\n",
       "            </tr>\n",
       "            <tr>\n",
       "                                <td id=\"T_5063f5a6_b115_11ec_bb7d_2db8c4e699bcrow5_col0\" class=\"data row5 col0\" >0.045790</td>\n",
       "                        <td id=\"T_5063f5a6_b115_11ec_bb7d_2db8c4e699bcrow5_col1\" class=\"data row5 col1\" >0.173373</td>\n",
       "                        <td id=\"T_5063f5a6_b115_11ec_bb7d_2db8c4e699bcrow5_col2\" class=\"data row5 col2\" >0.091979</td>\n",
       "                        <td id=\"T_5063f5a6_b115_11ec_bb7d_2db8c4e699bcrow5_col3\" class=\"data row5 col3\" >8000</td>\n",
       "            </tr>\n",
       "            <tr>\n",
       "                                <td id=\"T_5063f5a6_b115_11ec_bb7d_2db8c4e699bcrow6_col0\" class=\"data row6 col0\" >0.059943</td>\n",
       "                        <td id=\"T_5063f5a6_b115_11ec_bb7d_2db8c4e699bcrow6_col1\" class=\"data row6 col1\" >0.244339</td>\n",
       "                        <td id=\"T_5063f5a6_b115_11ec_bb7d_2db8c4e699bcrow6_col2\" class=\"data row6 col2\" >0.128152</td>\n",
       "                        <td id=\"T_5063f5a6_b115_11ec_bb7d_2db8c4e699bcrow6_col3\" class=\"data row6 col3\" >11000</td>\n",
       "            </tr>\n",
       "            <tr>\n",
       "                                <td id=\"T_5063f5a6_b115_11ec_bb7d_2db8c4e699bcrow7_col0\" class=\"data row7 col0\" >0.084569</td>\n",
       "                        <td id=\"T_5063f5a6_b115_11ec_bb7d_2db8c4e699bcrow7_col1\" class=\"data row7 col1\" >0.457114</td>\n",
       "                        <td id=\"T_5063f5a6_b115_11ec_bb7d_2db8c4e699bcrow7_col2\" class=\"data row7 col2\" >0.175388</td>\n",
       "                        <td id=\"T_5063f5a6_b115_11ec_bb7d_2db8c4e699bcrow7_col3\" class=\"data row7 col3\" >15000</td>\n",
       "            </tr>\n",
       "    </tbody></table>"
      ],
      "text/plain": [
       "<pandas.io.formats.style.Styler at 0x7f16f37a3fd0>"
      ]
     },
     "execution_count": 3,
     "metadata": {},
     "output_type": "execute_result"
    }
   ],
   "source": [
    "data = dict()\n",
    "\n",
    "for ordem in ['crescente', 'aleatoria', 'decrescente']:\n",
    "  tempos = list()\n",
    "  for tamanho in LISTA_DE_TAMANHOS:\n",
    "    # Gerando amostra do teste\n",
    "    if ordem == 'crescente':\n",
    "      amostra = np.arange(tamanho, dtype=float)\n",
    "    elif ordem == 'decrescente':\n",
    "      amostra = np.arange(tamanho, dtype=float)[::-1].copy()\n",
    "    else:\n",
    "      amostra = np.random.sample(tamanho)\n",
    "    \n",
    "    # testando performance\n",
    "    start = perf_counter()\n",
    "    shell(amostra)\n",
    "    stop = perf_counter()\n",
    "    \n",
    "    # salvando resultado\n",
    "    tempos.append(stop - start)\n",
    "  data[ordem] = tempos\n",
    "data['tamanhos'] = LISTA_DE_TAMANHOS\n",
    "\n",
    "df = DataFrame(data=data)\n",
    "df.style.hide_index()"
   ]
  },
  {
   "cell_type": "markdown",
   "metadata": {},
   "source": [
    "## Resultados"
   ]
  },
  {
   "cell_type": "code",
   "execution_count": 4,
   "metadata": {},
   "outputs": [
    {
     "name": "stdout",
     "output_type": "stream",
     "text": [
      "O pior caso é quando a lista se encontra ordenada de forma aleatoria\n"
     ]
    },
    {
     "data": {
      "image/png": "[encoded data removed]",
      "text/plain": [
       "<Figure size 432x288 with 1 Axes>"
      ]
     },
     "metadata": {},
     "output_type": "display_data"
    }
   ],
   "source": [
    "# Remodela o dataframe para uma versão longa mais fácil de plotar\n",
    "long_df = df.melt(id_vars='tamanhos', var_name='ordenação', value_name='tempos')\n",
    "\n",
    "set_style('darkgrid')\n",
    "pointplot(\n",
    "  data=long_df,\n",
    "  x='tamanhos',\n",
    "  y='tempos',\n",
    "  hue='ordenação',\n",
    "  ).set(\n",
    "    xlabel='tamanho da amostra',\n",
    "    ylabel='tempo (s)',\n",
    "    title='TAMANHO DA LISTA X TEMPO DE ORDENAMENTO')\n",
    "\n",
    "ordem = long_df.sort_values(by='tempos', ascending=False)['ordenação'].values[0]\n",
    "print(f'O pior caso é quando a lista se encontra ordenada de forma {ordem}')"
   ]
  }
 ],
 "metadata": {
  "interpreter": {
   "hash": "693016dc5ced5e46019455416070247f0b819cdf42749c2078471f2d23992d13"
  },
  "kernelspec": {
   "display_name": "Python 3.7.6 ('base')",
   "language": "python",
   "name": "python3"
  },
  "language_info": {
   "codemirror_mode": {
    "name": "ipython",
    "version": 3
   },
   "file_extension": ".py",
   "mimetype": "text/x-python",
   "name": "python",
   "nbconvert_exporter": "python",
   "pygments_lexer": "ipython3",
   "version": "3.7.6"
  },
  "orig_nbformat": 4
 },
 "nbformat": 4,
 "nbformat_minor": 2
}
