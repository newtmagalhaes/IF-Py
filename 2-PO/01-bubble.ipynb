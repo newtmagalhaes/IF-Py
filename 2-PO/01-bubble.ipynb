{
 "cells": [
  {
   "cell_type": "markdown",
   "metadata": {},
   "source": [
    "# Bubble Sort\n",
    "\n",
    "## Importando bibliotecas"
   ]
  },
  {
   "cell_type": "code",
   "execution_count": 1,
   "metadata": {},
   "outputs": [],
   "source": [
    "import numpy as np\n",
    "from time import perf_counter\n",
    "from seaborn import pointplot, set_style\n",
    "from pandas import DataFrame\n",
    "\n",
    "LISTA_DE_TAMANHOS = np.array([1000, 2000, 3000,\n",
    "                              4000, 5000, 8000,\n",
    "                              11_000, 15_000], dtype=int)"
   ]
  },
  {
   "cell_type": "markdown",
   "metadata": {},
   "source": [
    "## Algoritmo"
   ]
  },
  {
   "cell_type": "code",
   "execution_count": 2,
   "metadata": {},
   "outputs": [],
   "source": [
    "def bubble(arr:'np.ndarray[float]') -> None:\n",
    "  i = 0\n",
    "  n = len(arr)\n",
    "  houve_troca = True\n",
    "  while i < n-1 and houve_troca:\n",
    "    i += 1\n",
    "    houve_troca = False\n",
    "    for j in range(n-1):\n",
    "      if arr[j] > arr[j+1]:\n",
    "        arr[j], arr[j+1] = arr[j+1], arr[j]\n",
    "        houve_troca = True"
   ]
  },
  {
   "cell_type": "markdown",
   "metadata": {},
   "source": [
    "## Bateria de testes de desempenho"
   ]
  },
  {
   "cell_type": "code",
   "execution_count": 3,
   "metadata": {},
   "outputs": [
    {
     "data": {
      "text/html": [
       "<style  type=\"text/css\" >\n",
       "</style><table id=\"T_844c9962_abb7_11ec_9ff3_1df1b3aa550a\" ><thead>    <tr>        <th class=\"col_heading level0 col0\" >crescente</th>        <th class=\"col_heading level0 col1\" >aleatoria</th>        <th class=\"col_heading level0 col2\" >decrescente</th>        <th class=\"col_heading level0 col3\" >tamanhos</th>    </tr></thead><tbody>\n",
       "                <tr>\n",
       "                                <td id=\"T_844c9962_abb7_11ec_9ff3_1df1b3aa550arow0_col0\" class=\"data row0 col0\" >0.002446</td>\n",
       "                        <td id=\"T_844c9962_abb7_11ec_9ff3_1df1b3aa550arow0_col1\" class=\"data row0 col1\" >0.743835</td>\n",
       "                        <td id=\"T_844c9962_abb7_11ec_9ff3_1df1b3aa550arow0_col2\" class=\"data row0 col2\" >0.783514</td>\n",
       "                        <td id=\"T_844c9962_abb7_11ec_9ff3_1df1b3aa550arow0_col3\" class=\"data row0 col3\" >1000</td>\n",
       "            </tr>\n",
       "            <tr>\n",
       "                                <td id=\"T_844c9962_abb7_11ec_9ff3_1df1b3aa550arow1_col0\" class=\"data row1 col0\" >0.000896</td>\n",
       "                        <td id=\"T_844c9962_abb7_11ec_9ff3_1df1b3aa550arow1_col1\" class=\"data row1 col1\" >3.262636</td>\n",
       "                        <td id=\"T_844c9962_abb7_11ec_9ff3_1df1b3aa550arow1_col2\" class=\"data row1 col2\" >3.109404</td>\n",
       "                        <td id=\"T_844c9962_abb7_11ec_9ff3_1df1b3aa550arow1_col3\" class=\"data row1 col3\" >2000</td>\n",
       "            </tr>\n",
       "            <tr>\n",
       "                                <td id=\"T_844c9962_abb7_11ec_9ff3_1df1b3aa550arow2_col0\" class=\"data row2 col0\" >0.001319</td>\n",
       "                        <td id=\"T_844c9962_abb7_11ec_9ff3_1df1b3aa550arow2_col1\" class=\"data row2 col1\" >5.925726</td>\n",
       "                        <td id=\"T_844c9962_abb7_11ec_9ff3_1df1b3aa550arow2_col2\" class=\"data row2 col2\" >7.238983</td>\n",
       "                        <td id=\"T_844c9962_abb7_11ec_9ff3_1df1b3aa550arow2_col3\" class=\"data row2 col3\" >3000</td>\n",
       "            </tr>\n",
       "            <tr>\n",
       "                                <td id=\"T_844c9962_abb7_11ec_9ff3_1df1b3aa550arow3_col0\" class=\"data row3 col0\" >0.001525</td>\n",
       "                        <td id=\"T_844c9962_abb7_11ec_9ff3_1df1b3aa550arow3_col1\" class=\"data row3 col1\" >9.799683</td>\n",
       "                        <td id=\"T_844c9962_abb7_11ec_9ff3_1df1b3aa550arow3_col2\" class=\"data row3 col2\" >12.560172</td>\n",
       "                        <td id=\"T_844c9962_abb7_11ec_9ff3_1df1b3aa550arow3_col3\" class=\"data row3 col3\" >4000</td>\n",
       "            </tr>\n",
       "            <tr>\n",
       "                                <td id=\"T_844c9962_abb7_11ec_9ff3_1df1b3aa550arow4_col0\" class=\"data row4 col0\" >0.002931</td>\n",
       "                        <td id=\"T_844c9962_abb7_11ec_9ff3_1df1b3aa550arow4_col1\" class=\"data row4 col1\" >14.305327</td>\n",
       "                        <td id=\"T_844c9962_abb7_11ec_9ff3_1df1b3aa550arow4_col2\" class=\"data row4 col2\" >19.264168</td>\n",
       "                        <td id=\"T_844c9962_abb7_11ec_9ff3_1df1b3aa550arow4_col3\" class=\"data row4 col3\" >5000</td>\n",
       "            </tr>\n",
       "            <tr>\n",
       "                                <td id=\"T_844c9962_abb7_11ec_9ff3_1df1b3aa550arow5_col0\" class=\"data row5 col0\" >0.003901</td>\n",
       "                        <td id=\"T_844c9962_abb7_11ec_9ff3_1df1b3aa550arow5_col1\" class=\"data row5 col1\" >36.109686</td>\n",
       "                        <td id=\"T_844c9962_abb7_11ec_9ff3_1df1b3aa550arow5_col2\" class=\"data row5 col2\" >48.607850</td>\n",
       "                        <td id=\"T_844c9962_abb7_11ec_9ff3_1df1b3aa550arow5_col3\" class=\"data row5 col3\" >8000</td>\n",
       "            </tr>\n",
       "            <tr>\n",
       "                                <td id=\"T_844c9962_abb7_11ec_9ff3_1df1b3aa550arow6_col0\" class=\"data row6 col0\" >0.005691</td>\n",
       "                        <td id=\"T_844c9962_abb7_11ec_9ff3_1df1b3aa550arow6_col1\" class=\"data row6 col1\" >68.858072</td>\n",
       "                        <td id=\"T_844c9962_abb7_11ec_9ff3_1df1b3aa550arow6_col2\" class=\"data row6 col2\" >89.580332</td>\n",
       "                        <td id=\"T_844c9962_abb7_11ec_9ff3_1df1b3aa550arow6_col3\" class=\"data row6 col3\" >11000</td>\n",
       "            </tr>\n",
       "            <tr>\n",
       "                                <td id=\"T_844c9962_abb7_11ec_9ff3_1df1b3aa550arow7_col0\" class=\"data row7 col0\" >0.007028</td>\n",
       "                        <td id=\"T_844c9962_abb7_11ec_9ff3_1df1b3aa550arow7_col1\" class=\"data row7 col1\" >128.942980</td>\n",
       "                        <td id=\"T_844c9962_abb7_11ec_9ff3_1df1b3aa550arow7_col2\" class=\"data row7 col2\" >165.798482</td>\n",
       "                        <td id=\"T_844c9962_abb7_11ec_9ff3_1df1b3aa550arow7_col3\" class=\"data row7 col3\" >15000</td>\n",
       "            </tr>\n",
       "    </tbody></table>"
      ],
      "text/plain": [
       "<pandas.io.formats.style.Styler at 0x7fe2f0729c10>"
      ]
     },
     "execution_count": 3,
     "metadata": {},
     "output_type": "execute_result"
    }
   ],
   "source": [
    "data = dict()\n",
    "\n",
    "for ordem in ['crescente', 'aleatoria', 'decrescente']:\n",
    "  tempos = list()\n",
    "  for tamanho in LISTA_DE_TAMANHOS:\n",
    "    # Gerando amostra do teste\n",
    "    if ordem == 'crescente':\n",
    "      amostra = np.arange(tamanho, dtype=float)\n",
    "    elif ordem == 'decrescente':\n",
    "      amostra = np.arange(tamanho, dtype=float)[::-1].copy()\n",
    "    else:\n",
    "      amostra = np.random.sample(tamanho)\n",
    "    \n",
    "    # testando performance\n",
    "    start = perf_counter()\n",
    "    bubble(amostra)\n",
    "    stop = perf_counter()\n",
    "    \n",
    "    # salvando resultado\n",
    "    tempos.append(stop - start)\n",
    "  data[ordem] = tempos\n",
    "data['tamanhos'] = LISTA_DE_TAMANHOS\n",
    "\n",
    "df = DataFrame(data=data)\n",
    "df.style.hide_index()"
   ]
  },
  {
   "cell_type": "markdown",
   "metadata": {},
   "source": [
    "## Resultados"
   ]
  },
  {
   "cell_type": "code",
   "execution_count": 4,
   "metadata": {},
   "outputs": [
    {
     "name": "stdout",
     "output_type": "stream",
     "text": [
      "O pior caso é quando a lista se encontra ordenada de forma decrescente\n"
     ]
    },
    {
     "data": {
      "image/png": "[encoded data removed]",
      "text/plain": [
       "<Figure size 432x288 with 1 Axes>"
      ]
     },
     "metadata": {},
     "output_type": "display_data"
    }
   ],
   "source": [
    "long_df = df.melt(id_vars='tamanhos', var_name='ordenação', value_name='tempos')\n",
    "\n",
    "set_style('darkgrid')\n",
    "pointplot(\n",
    "  data=long_df,\n",
    "  x='tamanhos',\n",
    "  y='tempos',\n",
    "  hue='ordenação',\n",
    "  ).set(\n",
    "    xlabel='tamanho da amostra',\n",
    "    ylabel='tempo (s)',\n",
    "    title='TAMANHO DA LISTA X TEMPO DE ORDENAMENTO')\n",
    "\n",
    "ordem = long_df.sort_values(by='tempos', ascending=False)['ordenação'].values[0]\n",
    "print(f'O pior caso é quando a lista se encontra ordenada de forma {ordem}')\n"
   ]
  }
 ],
 "metadata": {
  "interpreter": {
   "hash": "693016dc5ced5e46019455416070247f0b819cdf42749c2078471f2d23992d13"
  },
  "kernelspec": {
   "display_name": "Python 3.7.6 ('base')",
   "language": "python",
   "name": "python3"
  },
  "language_info": {
   "codemirror_mode": {
    "name": "ipython",
    "version": 3
   },
   "file_extension": ".py",
   "mimetype": "text/x-python",
   "name": "python",
   "nbconvert_exporter": "python",
   "pygments_lexer": "ipython3",
   "version": "3.7.6"
  },
  "orig_nbformat": 4
 },
 "nbformat": 4,
 "nbformat_minor": 2
}
