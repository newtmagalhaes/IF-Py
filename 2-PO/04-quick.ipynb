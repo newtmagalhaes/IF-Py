{
 "cells": [
  {
   "cell_type": "markdown",
   "metadata": {},
   "source": [
    "# Quick Sort\n",
    "\n",
    "## Importando bibliotecas"
   ]
  },
  {
   "cell_type": "code",
   "execution_count": 1,
   "metadata": {},
   "outputs": [],
   "source": [
    "import numpy as np\n",
    "from time import perf_counter\n",
    "from pandas import DataFrame\n",
    "from seaborn import pointplot, set_style\n",
    "\n",
    "# Constante\n",
    "LISTA_DE_TAMANHOS = np.array([1000, 2000, 3000,\n",
    "                              4000, 5000, 8000,\n",
    "                              11_000, 15_000]) // 10\n",
    "\n",
    "# evitar estouro da pilha de chamadas\n",
    "import sys\n",
    "pior_caso = LISTA_DE_TAMANHOS.max() ** 2\n",
    "if pior_caso > sys.getrecursionlimit():\n",
    "  sys.setrecursionlimit(int(1.2 * pior_caso))\n"
   ]
  },
  {
   "cell_type": "markdown",
   "metadata": {},
   "source": [
    "## Algoritmo"
   ]
  },
  {
   "cell_type": "code",
   "execution_count": 2,
   "metadata": {},
   "outputs": [],
   "source": [
    "def quick(arr:'np.ndarray[float]', start:int=0, stop:int=None) -> None:\n",
    "  '''\n",
    "  Quick Sort\n",
    "  ---\n",
    "  Ordena o arr recursivamente de forma crescente.\n",
    "  A cada chamada, define `pivo` como sendo o ultimo elemento do\n",
    "  slice `arr[start, stop]` e agrupa no início dele os elementos que\n",
    "  são menores que ele, depois repete o processo recursivamente para\n",
    "  os slices menores e maiores do que o `pivo`.\n",
    "  \n",
    "  * OBS: definir limite de recursividade para algo pouco maior que\n",
    "  `len(arr) ** 2` para não estourar a pilha de recursividade no pior\n",
    "  caso:\n",
    "\n",
    "  ```python\n",
    "  from sys import setrecursionlimit\n",
    "  setrecursionlimit(int(1.1 * len(arr)**2))\n",
    "  ```\n",
    "  '''\n",
    "  stop = stop if stop is not None else len(arr)\n",
    "  i = start\n",
    "  if i < stop:\n",
    "    pivo = arr[stop-1]\n",
    "    # agrupa os elementos menores que o pivô no início no array\n",
    "    for j in range(start, stop):\n",
    "      if arr[j] < pivo:\n",
    "        arr[j], arr[i] = arr[i], arr[j]\n",
    "        i += 1\n",
    "  \n",
    "    # posiciona o pivô na posição i separando os grupos de menores e maiores que ele\n",
    "    arr[i], arr[stop-1] = arr[stop-1], arr[i]\n",
    "\n",
    "    # repete o processo recursivamente\n",
    "    quick(arr, start, i)\n",
    "    quick(arr, i+1, stop)\n"
   ]
  },
  {
   "cell_type": "markdown",
   "metadata": {},
   "source": [
    "## Bateria de testes de desempenho"
   ]
  },
  {
   "cell_type": "code",
   "execution_count": 3,
   "metadata": {},
   "outputs": [
    {
     "data": {
      "text/html": [
       "<style  type=\"text/css\" >\n",
       "</style><table id=\"T_8cda5342_ae48_11ec_a977_cd0b113817e5\" ><thead>    <tr>        <th class=\"col_heading level0 col0\" >crescente</th>        <th class=\"col_heading level0 col1\" >aleatoria</th>        <th class=\"col_heading level0 col2\" >decrescente</th>        <th class=\"col_heading level0 col3\" >tamanhos</th>    </tr></thead><tbody>\n",
       "                <tr>\n",
       "                                <td id=\"T_8cda5342_ae48_11ec_a977_cd0b113817e5row0_col0\" class=\"data row0 col0\" >0.003913</td>\n",
       "                        <td id=\"T_8cda5342_ae48_11ec_a977_cd0b113817e5row0_col1\" class=\"data row0 col1\" >0.000854</td>\n",
       "                        <td id=\"T_8cda5342_ae48_11ec_a977_cd0b113817e5row0_col2\" class=\"data row0 col2\" >0.003667</td>\n",
       "                        <td id=\"T_8cda5342_ae48_11ec_a977_cd0b113817e5row0_col3\" class=\"data row0 col3\" >100</td>\n",
       "            </tr>\n",
       "            <tr>\n",
       "                                <td id=\"T_8cda5342_ae48_11ec_a977_cd0b113817e5row1_col0\" class=\"data row1 col0\" >0.031485</td>\n",
       "                        <td id=\"T_8cda5342_ae48_11ec_a977_cd0b113817e5row1_col1\" class=\"data row1 col1\" >0.001397</td>\n",
       "                        <td id=\"T_8cda5342_ae48_11ec_a977_cd0b113817e5row1_col2\" class=\"data row1 col2\" >0.008777</td>\n",
       "                        <td id=\"T_8cda5342_ae48_11ec_a977_cd0b113817e5row1_col3\" class=\"data row1 col3\" >200</td>\n",
       "            </tr>\n",
       "            <tr>\n",
       "                                <td id=\"T_8cda5342_ae48_11ec_a977_cd0b113817e5row2_col0\" class=\"data row2 col0\" >0.049198</td>\n",
       "                        <td id=\"T_8cda5342_ae48_11ec_a977_cd0b113817e5row2_col1\" class=\"data row2 col1\" >0.002247</td>\n",
       "                        <td id=\"T_8cda5342_ae48_11ec_a977_cd0b113817e5row2_col2\" class=\"data row2 col2\" >0.026848</td>\n",
       "                        <td id=\"T_8cda5342_ae48_11ec_a977_cd0b113817e5row2_col3\" class=\"data row2 col3\" >300</td>\n",
       "            </tr>\n",
       "            <tr>\n",
       "                                <td id=\"T_8cda5342_ae48_11ec_a977_cd0b113817e5row3_col0\" class=\"data row3 col0\" >0.083324</td>\n",
       "                        <td id=\"T_8cda5342_ae48_11ec_a977_cd0b113817e5row3_col1\" class=\"data row3 col1\" >0.003672</td>\n",
       "                        <td id=\"T_8cda5342_ae48_11ec_a977_cd0b113817e5row3_col2\" class=\"data row3 col2\" >0.049187</td>\n",
       "                        <td id=\"T_8cda5342_ae48_11ec_a977_cd0b113817e5row3_col3\" class=\"data row3 col3\" >400</td>\n",
       "            </tr>\n",
       "            <tr>\n",
       "                                <td id=\"T_8cda5342_ae48_11ec_a977_cd0b113817e5row4_col0\" class=\"data row4 col0\" >0.109563</td>\n",
       "                        <td id=\"T_8cda5342_ae48_11ec_a977_cd0b113817e5row4_col1\" class=\"data row4 col1\" >0.004998</td>\n",
       "                        <td id=\"T_8cda5342_ae48_11ec_a977_cd0b113817e5row4_col2\" class=\"data row4 col2\" >0.106682</td>\n",
       "                        <td id=\"T_8cda5342_ae48_11ec_a977_cd0b113817e5row4_col3\" class=\"data row4 col3\" >500</td>\n",
       "            </tr>\n",
       "            <tr>\n",
       "                                <td id=\"T_8cda5342_ae48_11ec_a977_cd0b113817e5row5_col0\" class=\"data row5 col0\" >0.268179</td>\n",
       "                        <td id=\"T_8cda5342_ae48_11ec_a977_cd0b113817e5row5_col1\" class=\"data row5 col1\" >0.006854</td>\n",
       "                        <td id=\"T_8cda5342_ae48_11ec_a977_cd0b113817e5row5_col2\" class=\"data row5 col2\" >0.325353</td>\n",
       "                        <td id=\"T_8cda5342_ae48_11ec_a977_cd0b113817e5row5_col3\" class=\"data row5 col3\" >800</td>\n",
       "            </tr>\n",
       "            <tr>\n",
       "                                <td id=\"T_8cda5342_ae48_11ec_a977_cd0b113817e5row6_col0\" class=\"data row6 col0\" >0.540081</td>\n",
       "                        <td id=\"T_8cda5342_ae48_11ec_a977_cd0b113817e5row6_col1\" class=\"data row6 col1\" >0.010944</td>\n",
       "                        <td id=\"T_8cda5342_ae48_11ec_a977_cd0b113817e5row6_col2\" class=\"data row6 col2\" >0.458909</td>\n",
       "                        <td id=\"T_8cda5342_ae48_11ec_a977_cd0b113817e5row6_col3\" class=\"data row6 col3\" >1100</td>\n",
       "            </tr>\n",
       "            <tr>\n",
       "                                <td id=\"T_8cda5342_ae48_11ec_a977_cd0b113817e5row7_col0\" class=\"data row7 col0\" >1.066019</td>\n",
       "                        <td id=\"T_8cda5342_ae48_11ec_a977_cd0b113817e5row7_col1\" class=\"data row7 col1\" >0.012118</td>\n",
       "                        <td id=\"T_8cda5342_ae48_11ec_a977_cd0b113817e5row7_col2\" class=\"data row7 col2\" >0.648077</td>\n",
       "                        <td id=\"T_8cda5342_ae48_11ec_a977_cd0b113817e5row7_col3\" class=\"data row7 col3\" >1500</td>\n",
       "            </tr>\n",
       "    </tbody></table>"
      ],
      "text/plain": [
       "<pandas.io.formats.style.Styler at 0x7fbc210cb110>"
      ]
     },
     "execution_count": 3,
     "metadata": {},
     "output_type": "execute_result"
    }
   ],
   "source": [
    "data = dict()\n",
    "\n",
    "for ordem in ['crescente', 'aleatoria', 'decrescente']:\n",
    "  tempos = list()\n",
    "  for tamanho in LISTA_DE_TAMANHOS:\n",
    "    # Gerando amostra do teste\n",
    "    if ordem == 'crescente':\n",
    "      amostra = np.arange(tamanho, dtype=float)\n",
    "    elif ordem == 'decrescente':\n",
    "      amostra = np.arange(tamanho, dtype=float)[::-1].copy()\n",
    "    else:\n",
    "      amostra = np.random.sample(tamanho)\n",
    "    \n",
    "    # testando performance\n",
    "    start = perf_counter()\n",
    "    quick(amostra)\n",
    "    stop = perf_counter()\n",
    "    \n",
    "    # salvando resultado\n",
    "    tempos.append(stop - start)\n",
    "  data[ordem] = tempos\n",
    "data['tamanhos'] = LISTA_DE_TAMANHOS\n",
    "\n",
    "df = DataFrame(data=data)\n",
    "df.style.hide_index()"
   ]
  },
  {
   "cell_type": "markdown",
   "metadata": {},
   "source": [
    "## Resultados"
   ]
  },
  {
   "cell_type": "code",
   "execution_count": 4,
   "metadata": {},
   "outputs": [
    {
     "name": "stdout",
     "output_type": "stream",
     "text": [
      "O pior caso é quando a lista se encontra ordenada de forma crescente\n"
     ]
    },
    {
     "data": {
      "image/png": "[encoded data removed]",
      "text/plain": [
       "<Figure size 432x288 with 1 Axes>"
      ]
     },
     "metadata": {},
     "output_type": "display_data"
    }
   ],
   "source": [
    "# Remodela o dataframe para uma versão longa mais fácil de plotar\n",
    "long_df = df.melt(id_vars='tamanhos', var_name='ordenação', value_name='tempos')\n",
    "\n",
    "set_style('darkgrid')\n",
    "pointplot(\n",
    "  data=long_df,\n",
    "  x='tamanhos',\n",
    "  y='tempos',\n",
    "  hue='ordenação',\n",
    "  ).set(\n",
    "    xlabel='tamanho da amostra',\n",
    "    ylabel='tempo (s)',\n",
    "    title='TAMANHO DA LISTA X TEMPO DE ORDENAMENTO')\n",
    "\n",
    "ordem = long_df.sort_values(by='tempos', ascending=False)['ordenação'].values[0]\n",
    "print(f'O pior caso é quando a lista se encontra ordenada de forma {ordem}')"
   ]
  }
 ],
 "metadata": {
  "interpreter": {
   "hash": "693016dc5ced5e46019455416070247f0b819cdf42749c2078471f2d23992d13"
  },
  "kernelspec": {
   "display_name": "Python 3.7.6 ('base')",
   "language": "python",
   "name": "python3"
  },
  "language_info": {
   "codemirror_mode": {
    "name": "ipython",
    "version": 3
   },
   "file_extension": ".py",
   "mimetype": "text/x-python",
   "name": "python",
   "nbconvert_exporter": "python",
   "pygments_lexer": "ipython3",
   "version": "3.7.6"
  },
  "orig_nbformat": 4
 },
 "nbformat": 4,
 "nbformat_minor": 2
}
