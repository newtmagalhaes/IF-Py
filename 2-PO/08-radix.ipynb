{
 "cells": [
  {
   "cell_type": "markdown",
   "metadata": {},
   "source": [
    "# Radix Sort\n",
    "\n",
    "## Importando bibliotecas"
   ]
  },
  {
   "cell_type": "code",
   "execution_count": 1,
   "metadata": {},
   "outputs": [],
   "source": [
    "import numpy as np\n",
    "from time import perf_counter\n",
    "from pandas import DataFrame\n",
    "from seaborn import pointplot, set_style\n",
    "\n",
    "# Constante\n",
    "LISTA_DE_TAMANHOS = np.array([1000, 2000, 3000,\n",
    "                              4000, 5000, 8000,\n",
    "                              11_000, 15_000])"
   ]
  },
  {
   "cell_type": "markdown",
   "metadata": {},
   "source": [
    "## Algoritmo"
   ]
  },
  {
   "cell_type": "code",
   "execution_count": 2,
   "metadata": {},
   "outputs": [],
   "source": [
    "def radix(arr:'np.ndarray[int]'):\n",
    "  \"\"\"Radix Sort\n",
    "  \n",
    "  OBS: para números inteiros apenas.\n",
    "  \"\"\"\n",
    "  # quantidade de caracteres diferentes (0 a 9)\n",
    "  S = 10\n",
    "  # Quantidade de dígitos do maior número\n",
    "  K = len(f'{max(arr)}')\n",
    "\n",
    "  for i in range(K):\n",
    "    copia = arr.copy()\n",
    "    counts = np.zeros(S, dtype=int)\n",
    "    pos = np.zeros(S, dtype=int)\n",
    "\n",
    "    for num in arr:\n",
    "      # se num tiver k dígitos (k<i), então na iteração i=k+1 -> d=0\n",
    "      d = (num % 10**(i+1)) // 10**i\n",
    "      counts[d] += 1\n",
    "    for j in range(1, S):\n",
    "      pos[j] += counts[j-1] + pos[j-1]\n",
    "    \n",
    "    for e in copia:\n",
    "      d = (e % 10**(i+1)) // 10**i\n",
    "      arr[pos[d]] = e\n",
    "      pos[d] += 1"
   ]
  },
  {
   "cell_type": "markdown",
   "metadata": {},
   "source": [
    "## Bateria de testes de desempenho"
   ]
  },
  {
   "cell_type": "code",
   "execution_count": 3,
   "metadata": {},
   "outputs": [
    {
     "data": {
      "text/html": [
       "<style  type=\"text/css\" >\n",
       "</style><table id=\"T_d0034e60_b142_11ec_ac1c_fbd6c9de0556\" ><thead>    <tr>        <th class=\"col_heading level0 col0\" >crescente</th>        <th class=\"col_heading level0 col1\" >aleatoria</th>        <th class=\"col_heading level0 col2\" >decrescente</th>        <th class=\"col_heading level0 col3\" >tamanhos</th>    </tr></thead><tbody>\n",
       "                <tr>\n",
       "                                <td id=\"T_d0034e60_b142_11ec_ac1c_fbd6c9de0556row0_col0\" class=\"data row0 col0\" >0.020589</td>\n",
       "                        <td id=\"T_d0034e60_b142_11ec_ac1c_fbd6c9de0556row0_col1\" class=\"data row0 col1\" >0.025108</td>\n",
       "                        <td id=\"T_d0034e60_b142_11ec_ac1c_fbd6c9de0556row0_col2\" class=\"data row0 col2\" >0.012326</td>\n",
       "                        <td id=\"T_d0034e60_b142_11ec_ac1c_fbd6c9de0556row0_col3\" class=\"data row0 col3\" >1000</td>\n",
       "            </tr>\n",
       "            <tr>\n",
       "                                <td id=\"T_d0034e60_b142_11ec_ac1c_fbd6c9de0556row1_col0\" class=\"data row1 col0\" >0.041113</td>\n",
       "                        <td id=\"T_d0034e60_b142_11ec_ac1c_fbd6c9de0556row1_col1\" class=\"data row1 col1\" >0.032681</td>\n",
       "                        <td id=\"T_d0034e60_b142_11ec_ac1c_fbd6c9de0556row1_col2\" class=\"data row1 col2\" >0.033500</td>\n",
       "                        <td id=\"T_d0034e60_b142_11ec_ac1c_fbd6c9de0556row1_col3\" class=\"data row1 col3\" >2000</td>\n",
       "            </tr>\n",
       "            <tr>\n",
       "                                <td id=\"T_d0034e60_b142_11ec_ac1c_fbd6c9de0556row2_col0\" class=\"data row2 col0\" >0.065078</td>\n",
       "                        <td id=\"T_d0034e60_b142_11ec_ac1c_fbd6c9de0556row2_col1\" class=\"data row2 col1\" >0.048978</td>\n",
       "                        <td id=\"T_d0034e60_b142_11ec_ac1c_fbd6c9de0556row2_col2\" class=\"data row2 col2\" >0.049098</td>\n",
       "                        <td id=\"T_d0034e60_b142_11ec_ac1c_fbd6c9de0556row2_col3\" class=\"data row2 col3\" >3000</td>\n",
       "            </tr>\n",
       "            <tr>\n",
       "                                <td id=\"T_d0034e60_b142_11ec_ac1c_fbd6c9de0556row3_col0\" class=\"data row3 col0\" >0.066566</td>\n",
       "                        <td id=\"T_d0034e60_b142_11ec_ac1c_fbd6c9de0556row3_col1\" class=\"data row3 col1\" >0.066410</td>\n",
       "                        <td id=\"T_d0034e60_b142_11ec_ac1c_fbd6c9de0556row3_col2\" class=\"data row3 col2\" >0.065642</td>\n",
       "                        <td id=\"T_d0034e60_b142_11ec_ac1c_fbd6c9de0556row3_col3\" class=\"data row3 col3\" >4000</td>\n",
       "            </tr>\n",
       "            <tr>\n",
       "                                <td id=\"T_d0034e60_b142_11ec_ac1c_fbd6c9de0556row4_col0\" class=\"data row4 col0\" >0.082128</td>\n",
       "                        <td id=\"T_d0034e60_b142_11ec_ac1c_fbd6c9de0556row4_col1\" class=\"data row4 col1\" >0.081400</td>\n",
       "                        <td id=\"T_d0034e60_b142_11ec_ac1c_fbd6c9de0556row4_col2\" class=\"data row4 col2\" >0.083668</td>\n",
       "                        <td id=\"T_d0034e60_b142_11ec_ac1c_fbd6c9de0556row4_col3\" class=\"data row4 col3\" >5000</td>\n",
       "            </tr>\n",
       "            <tr>\n",
       "                                <td id=\"T_d0034e60_b142_11ec_ac1c_fbd6c9de0556row5_col0\" class=\"data row5 col0\" >0.126702</td>\n",
       "                        <td id=\"T_d0034e60_b142_11ec_ac1c_fbd6c9de0556row5_col1\" class=\"data row5 col1\" >0.128153</td>\n",
       "                        <td id=\"T_d0034e60_b142_11ec_ac1c_fbd6c9de0556row5_col2\" class=\"data row5 col2\" >0.128268</td>\n",
       "                        <td id=\"T_d0034e60_b142_11ec_ac1c_fbd6c9de0556row5_col3\" class=\"data row5 col3\" >8000</td>\n",
       "            </tr>\n",
       "            <tr>\n",
       "                                <td id=\"T_d0034e60_b142_11ec_ac1c_fbd6c9de0556row6_col0\" class=\"data row6 col0\" >0.231373</td>\n",
       "                        <td id=\"T_d0034e60_b142_11ec_ac1c_fbd6c9de0556row6_col1\" class=\"data row6 col1\" >0.227903</td>\n",
       "                        <td id=\"T_d0034e60_b142_11ec_ac1c_fbd6c9de0556row6_col2\" class=\"data row6 col2\" >0.225707</td>\n",
       "                        <td id=\"T_d0034e60_b142_11ec_ac1c_fbd6c9de0556row6_col3\" class=\"data row6 col3\" >11000</td>\n",
       "            </tr>\n",
       "            <tr>\n",
       "                                <td id=\"T_d0034e60_b142_11ec_ac1c_fbd6c9de0556row7_col0\" class=\"data row7 col0\" >0.307037</td>\n",
       "                        <td id=\"T_d0034e60_b142_11ec_ac1c_fbd6c9de0556row7_col1\" class=\"data row7 col1\" >0.314462</td>\n",
       "                        <td id=\"T_d0034e60_b142_11ec_ac1c_fbd6c9de0556row7_col2\" class=\"data row7 col2\" >0.312584</td>\n",
       "                        <td id=\"T_d0034e60_b142_11ec_ac1c_fbd6c9de0556row7_col3\" class=\"data row7 col3\" >15000</td>\n",
       "            </tr>\n",
       "    </tbody></table>"
      ],
      "text/plain": [
       "<pandas.io.formats.style.Styler at 0x7f99d9e55fd0>"
      ]
     },
     "execution_count": 3,
     "metadata": {},
     "output_type": "execute_result"
    }
   ],
   "source": [
    "data = dict()\n",
    "\n",
    "for ordem in ['crescente', 'aleatoria', 'decrescente']:\n",
    "  tempos = list()\n",
    "  for tamanho in LISTA_DE_TAMANHOS:\n",
    "    # Gerando amostra do teste\n",
    "    if ordem == 'crescente':\n",
    "      amostra = np.arange(tamanho, dtype=int)\n",
    "    elif ordem == 'decrescente':\n",
    "      amostra = np.arange(tamanho, dtype=int)[::-1].copy()\n",
    "    else:\n",
    "      amostra = np.random.randint(low=0, high=tamanho+1, size=tamanho)\n",
    "    \n",
    "    # testando performance\n",
    "    start = perf_counter()\n",
    "    radix(amostra)\n",
    "    stop = perf_counter()\n",
    "    \n",
    "    # salvando resultado\n",
    "    tempos.append(stop - start)\n",
    "  data[ordem] = tempos\n",
    "data['tamanhos'] = LISTA_DE_TAMANHOS\n",
    "\n",
    "df = DataFrame(data=data)\n",
    "df.style.hide_index()"
   ]
  },
  {
   "cell_type": "markdown",
   "metadata": {},
   "source": [
    "## Resultados"
   ]
  },
  {
   "cell_type": "code",
   "execution_count": 4,
   "metadata": {},
   "outputs": [
    {
     "name": "stdout",
     "output_type": "stream",
     "text": [
      "O pior caso é quando a lista se encontra ordenada de forma aleatoria\n"
     ]
    },
    {
     "data": {
      "image/png": "[encoded data removed]",
      "text/plain": [
       "<Figure size 432x288 with 1 Axes>"
      ]
     },
     "metadata": {},
     "output_type": "display_data"
    }
   ],
   "source": [
    "# Remodela o dataframe para uma versão longa mais fácil de plotar\n",
    "long_df = df.melt(id_vars='tamanhos', var_name='ordenação', value_name='tempos')\n",
    "\n",
    "set_style('darkgrid')\n",
    "pointplot(\n",
    "  data=long_df,\n",
    "  x='tamanhos',\n",
    "  y='tempos',\n",
    "  hue='ordenação',\n",
    "  ).set(\n",
    "    xlabel='tamanho da amostra',\n",
    "    ylabel='tempo (s)',\n",
    "    title='TAMANHO DA LISTA X TEMPO DE ORDENAMENTO')\n",
    "\n",
    "ordem = long_df.sort_values(by='tempos', ascending=False)['ordenação'].values[0]\n",
    "print(f'O pior caso é quando a lista se encontra ordenada de forma {ordem}')"
   ]
  }
 ],
 "metadata": {
  "interpreter": {
   "hash": "693016dc5ced5e46019455416070247f0b819cdf42749c2078471f2d23992d13"
  },
  "kernelspec": {
   "display_name": "Python 3.7.6 ('base')",
   "language": "python",
   "name": "python3"
  },
  "language_info": {
   "codemirror_mode": {
    "name": "ipython",
    "version": 3
   },
   "file_extension": ".py",
   "mimetype": "text/x-python",
   "name": "python",
   "nbconvert_exporter": "python",
   "pygments_lexer": "ipython3",
   "version": "3.7.6"
  },
  "orig_nbformat": 4
 },
 "nbformat": 4,
 "nbformat_minor": 2
}
