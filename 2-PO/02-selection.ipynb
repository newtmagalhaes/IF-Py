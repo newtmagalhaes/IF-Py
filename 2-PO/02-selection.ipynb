{
 "cells": [
  {
   "cell_type": "markdown",
   "metadata": {},
   "source": [
    "# Selection Sort\n",
    "\n",
    "## Importando bibliotecas"
   ]
  },
  {
   "cell_type": "code",
   "execution_count": 1,
   "metadata": {},
   "outputs": [],
   "source": [
    "import numpy as np\n",
    "from time import perf_counter\n",
    "from pandas import DataFrame\n",
    "from seaborn import pointplot, set_style\n",
    "\n",
    "# Constante\n",
    "LISTA_DE_TAMANHOS = np.array([1000, 2000, 3000,\n",
    "                              4000, 5000, 8000,\n",
    "                              11_000, 15_000])"
   ]
  },
  {
   "cell_type": "markdown",
   "metadata": {},
   "source": [
    "## Algoritmo"
   ]
  },
  {
   "cell_type": "code",
   "execution_count": 2,
   "metadata": {},
   "outputs": [],
   "source": [
    "def selection(arr:'np.ndarray[float]') -> None:\n",
    "  \"\"\"\n",
    "  Selection Sort\n",
    "  ---\n",
    "  Ordena o arr de forma crescente.\n",
    "  Dado o array de tamanho `n`, em cada iteração `i` define:\n",
    "  `arr[i]` como o menor elemento dentro do pedaço `arr[i:n]`;\n",
    "  o elemento que estava previamente em `arr[i]` troca de lugar\n",
    "  com o novo\n",
    "  \"\"\"\n",
    "  n = len(arr)\n",
    "  i = 0\n",
    "  for i in range(n):\n",
    "    i_min = i\n",
    "    for j in range(i, n):\n",
    "      if arr[j] < arr[i]:\n",
    "        i_min = j\n",
    "    arr[i], arr[i_min] = arr[i_min], arr[i]\n"
   ]
  },
  {
   "cell_type": "markdown",
   "metadata": {},
   "source": [
    "## Bateria de testes de desempenho"
   ]
  },
  {
   "cell_type": "code",
   "execution_count": 3,
   "metadata": {},
   "outputs": [
    {
     "data": {
      "text/html": [
       "<style  type=\"text/css\" >\n",
       "</style><table id=\"T_7c7272a4_abd3_11ec_847e_2b87deead1ed\" ><thead>    <tr>        <th class=\"col_heading level0 col0\" >crescente</th>        <th class=\"col_heading level0 col1\" >aleatoria</th>        <th class=\"col_heading level0 col2\" >decrescente</th>        <th class=\"col_heading level0 col3\" >tamanhos</th>    </tr></thead><tbody>\n",
       "                <tr>\n",
       "                                <td id=\"T_7c7272a4_abd3_11ec_847e_2b87deead1edrow0_col0\" class=\"data row0 col0\" >0.560914</td>\n",
       "                        <td id=\"T_7c7272a4_abd3_11ec_847e_2b87deead1edrow0_col1\" class=\"data row0 col1\" >0.205155</td>\n",
       "                        <td id=\"T_7c7272a4_abd3_11ec_847e_2b87deead1edrow0_col2\" class=\"data row0 col2\" >0.186219</td>\n",
       "                        <td id=\"T_7c7272a4_abd3_11ec_847e_2b87deead1edrow0_col3\" class=\"data row0 col3\" >1000</td>\n",
       "            </tr>\n",
       "            <tr>\n",
       "                                <td id=\"T_7c7272a4_abd3_11ec_847e_2b87deead1edrow1_col0\" class=\"data row1 col0\" >1.428078</td>\n",
       "                        <td id=\"T_7c7272a4_abd3_11ec_847e_2b87deead1edrow1_col1\" class=\"data row1 col1\" >0.764806</td>\n",
       "                        <td id=\"T_7c7272a4_abd3_11ec_847e_2b87deead1edrow1_col2\" class=\"data row1 col2\" >0.735845</td>\n",
       "                        <td id=\"T_7c7272a4_abd3_11ec_847e_2b87deead1edrow1_col3\" class=\"data row1 col3\" >2000</td>\n",
       "            </tr>\n",
       "            <tr>\n",
       "                                <td id=\"T_7c7272a4_abd3_11ec_847e_2b87deead1edrow2_col0\" class=\"data row2 col0\" >2.636878</td>\n",
       "                        <td id=\"T_7c7272a4_abd3_11ec_847e_2b87deead1edrow2_col1\" class=\"data row2 col1\" >1.729896</td>\n",
       "                        <td id=\"T_7c7272a4_abd3_11ec_847e_2b87deead1edrow2_col2\" class=\"data row2 col2\" >1.733361</td>\n",
       "                        <td id=\"T_7c7272a4_abd3_11ec_847e_2b87deead1edrow2_col3\" class=\"data row2 col3\" >3000</td>\n",
       "            </tr>\n",
       "            <tr>\n",
       "                                <td id=\"T_7c7272a4_abd3_11ec_847e_2b87deead1edrow3_col0\" class=\"data row3 col0\" >5.533146</td>\n",
       "                        <td id=\"T_7c7272a4_abd3_11ec_847e_2b87deead1edrow3_col1\" class=\"data row3 col1\" >3.338659</td>\n",
       "                        <td id=\"T_7c7272a4_abd3_11ec_847e_2b87deead1edrow3_col2\" class=\"data row3 col2\" >3.005148</td>\n",
       "                        <td id=\"T_7c7272a4_abd3_11ec_847e_2b87deead1edrow3_col3\" class=\"data row3 col3\" >4000</td>\n",
       "            </tr>\n",
       "            <tr>\n",
       "                                <td id=\"T_7c7272a4_abd3_11ec_847e_2b87deead1edrow4_col0\" class=\"data row4 col0\" >8.070192</td>\n",
       "                        <td id=\"T_7c7272a4_abd3_11ec_847e_2b87deead1edrow4_col1\" class=\"data row4 col1\" >5.156073</td>\n",
       "                        <td id=\"T_7c7272a4_abd3_11ec_847e_2b87deead1edrow4_col2\" class=\"data row4 col2\" >4.734550</td>\n",
       "                        <td id=\"T_7c7272a4_abd3_11ec_847e_2b87deead1edrow4_col3\" class=\"data row4 col3\" >5000</td>\n",
       "            </tr>\n",
       "            <tr>\n",
       "                                <td id=\"T_7c7272a4_abd3_11ec_847e_2b87deead1edrow5_col0\" class=\"data row5 col0\" >17.534334</td>\n",
       "                        <td id=\"T_7c7272a4_abd3_11ec_847e_2b87deead1edrow5_col1\" class=\"data row5 col1\" >12.800869</td>\n",
       "                        <td id=\"T_7c7272a4_abd3_11ec_847e_2b87deead1edrow5_col2\" class=\"data row5 col2\" >11.988522</td>\n",
       "                        <td id=\"T_7c7272a4_abd3_11ec_847e_2b87deead1edrow5_col3\" class=\"data row5 col3\" >8000</td>\n",
       "            </tr>\n",
       "            <tr>\n",
       "                                <td id=\"T_7c7272a4_abd3_11ec_847e_2b87deead1edrow6_col0\" class=\"data row6 col0\" >36.714351</td>\n",
       "                        <td id=\"T_7c7272a4_abd3_11ec_847e_2b87deead1edrow6_col1\" class=\"data row6 col1\" >23.758613</td>\n",
       "                        <td id=\"T_7c7272a4_abd3_11ec_847e_2b87deead1edrow6_col2\" class=\"data row6 col2\" >22.434905</td>\n",
       "                        <td id=\"T_7c7272a4_abd3_11ec_847e_2b87deead1edrow6_col3\" class=\"data row6 col3\" >11000</td>\n",
       "            </tr>\n",
       "            <tr>\n",
       "                                <td id=\"T_7c7272a4_abd3_11ec_847e_2b87deead1edrow7_col0\" class=\"data row7 col0\" >65.980807</td>\n",
       "                        <td id=\"T_7c7272a4_abd3_11ec_847e_2b87deead1edrow7_col1\" class=\"data row7 col1\" >42.716445</td>\n",
       "                        <td id=\"T_7c7272a4_abd3_11ec_847e_2b87deead1edrow7_col2\" class=\"data row7 col2\" >46.194076</td>\n",
       "                        <td id=\"T_7c7272a4_abd3_11ec_847e_2b87deead1edrow7_col3\" class=\"data row7 col3\" >15000</td>\n",
       "            </tr>\n",
       "    </tbody></table>"
      ],
      "text/plain": [
       "<pandas.io.formats.style.Styler at 0x7fdaf3954a90>"
      ]
     },
     "execution_count": 3,
     "metadata": {},
     "output_type": "execute_result"
    }
   ],
   "source": [
    "data = dict()\n",
    "\n",
    "for ordem in ['crescente', 'aleatoria', 'decrescente']:\n",
    "  tempos = list()\n",
    "  for tamanho in LISTA_DE_TAMANHOS:\n",
    "    # Gerando amostra do teste\n",
    "    if ordem == 'crescente':\n",
    "      amostra = np.arange(tamanho, dtype=float)\n",
    "    elif ordem == 'decrescente':\n",
    "      amostra = np.arange(tamanho, dtype=float)[::-1].copy()\n",
    "    else:\n",
    "      amostra = np.random.sample(tamanho)\n",
    "    \n",
    "    # testando performance\n",
    "    start = perf_counter()\n",
    "    selection(amostra)\n",
    "    stop = perf_counter()\n",
    "    \n",
    "    # salvando resultado\n",
    "    tempos.append(stop - start)\n",
    "  data[ordem] = tempos\n",
    "data['tamanhos'] = LISTA_DE_TAMANHOS\n",
    "\n",
    "df = DataFrame(data=data)\n",
    "df.style.hide_index()"
   ]
  },
  {
   "cell_type": "markdown",
   "metadata": {},
   "source": [
    "## Resultados"
   ]
  },
  {
   "cell_type": "code",
   "execution_count": 4,
   "metadata": {},
   "outputs": [
    {
     "name": "stdout",
     "output_type": "stream",
     "text": [
      "O pior caso é quando a lista se encontra ordenada de forma crescente\n"
     ]
    },
    {
     "data": {
      "image/png": "[encoded data removed]",
      "text/plain": [
       "<Figure size 432x288 with 1 Axes>"
      ]
     },
     "metadata": {},
     "output_type": "display_data"
    }
   ],
   "source": [
    "# Remodela o dataframe para uma versão longa mais fácil de plotar\n",
    "long_df = df.melt(id_vars='tamanhos', var_name='ordenação', value_name='tempos')\n",
    "\n",
    "set_style('darkgrid')\n",
    "pointplot(\n",
    "  data=long_df,\n",
    "  x='tamanhos',\n",
    "  y='tempos',\n",
    "  hue='ordenação',\n",
    "  ).set(\n",
    "    xlabel='tamanho da amostra',\n",
    "    ylabel='tempo (s)',\n",
    "    title='TAMANHO DA LISTA X TEMPO DE ORDENAMENTO')\n",
    "\n",
    "ordem = long_df.sort_values(by='tempos', ascending=False)['ordenação'].values[0]\n",
    "print(f'O pior caso é quando a lista se encontra ordenada de forma {ordem}')"
   ]
  }
 ],
 "metadata": {
  "interpreter": {
   "hash": "693016dc5ced5e46019455416070247f0b819cdf42749c2078471f2d23992d13"
  },
  "kernelspec": {
   "display_name": "Python 3.7.6 ('base')",
   "language": "python",
   "name": "python3"
  },
  "language_info": {
   "codemirror_mode": {
    "name": "ipython",
    "version": 3
   },
   "file_extension": ".py",
   "mimetype": "text/x-python",
   "name": "python",
   "nbconvert_exporter": "python",
   "pygments_lexer": "ipython3",
   "version": "3.7.6"
  },
  "orig_nbformat": 4
 },
 "nbformat": 4,
 "nbformat_minor": 2
}
