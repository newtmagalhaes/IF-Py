{
 "cells": [
  {
   "cell_type": "markdown",
   "metadata": {},
   "source": [
    "# Bucket Sort\n",
    "\n",
    "## Importando bibliotecas"
   ]
  },
  {
   "cell_type": "code",
   "execution_count": 1,
   "metadata": {},
   "outputs": [],
   "source": [
    "import numpy as np\n",
    "from time import perf_counter\n",
    "from pandas import DataFrame\n",
    "from seaborn import pointplot, set_style\n",
    "\n",
    "# Constante\n",
    "LISTA_DE_TAMANHOS = np.array([1000, 2000, 3000,\n",
    "                              4000, 5000, 8000,\n",
    "                              11_000, 15_000])"
   ]
  },
  {
   "cell_type": "markdown",
   "metadata": {},
   "source": [
    "## Algoritmo"
   ]
  },
  {
   "cell_type": "code",
   "execution_count": 2,
   "metadata": {},
   "outputs": [],
   "source": [
    "def bubble(arr:np.ndarray) -> None:\n",
    "  i = 0\n",
    "  n = len(arr)\n",
    "  houve_troca = True\n",
    "  while i < n-1 and houve_troca:\n",
    "    i += 1\n",
    "    houve_troca = False\n",
    "    for j in range(n-1):\n",
    "      if arr[j] > arr[j+1]:\n",
    "        arr[j], arr[j+1] = arr[j+1], arr[j]\n",
    "        houve_troca = True\n",
    "\n",
    "def bucket(arr:'np.ndarray[int]') -> None:\n",
    "  \"\"\"Bucket Sort\"\"\"\n",
    "  LEN_BUCKET = 10\n",
    "\n",
    "  bucket_min, bucket_max = min(arr), max(arr)\n",
    "\n",
    "  n_buckets = (bucket_max - bucket_min) // LEN_BUCKET + 1\n",
    "  \n",
    "  buckets_list = [[] for _ in range(n_buckets)]\n",
    "\n",
    "  # Colocando elementos nos baldes\n",
    "  for e in arr:\n",
    "    pos = (e - bucket_min) // LEN_BUCKET\n",
    "    buckets_list[pos].append(e)\n",
    "  \n",
    "  # Ordenando baldes\n",
    "  pos = 0\n",
    "  for balde in buckets_list:\n",
    "    bubble(balde)\n",
    "    for num in balde:\n",
    "      arr[pos] = num\n",
    "      pos += 1"
   ]
  },
  {
   "cell_type": "markdown",
   "metadata": {},
   "source": [
    "## Bateria de testes de desempenho"
   ]
  },
  {
   "cell_type": "code",
   "execution_count": 5,
   "metadata": {},
   "outputs": [
    {
     "data": {
      "text/html": [
       "<style  type=\"text/css\" >\n",
       "</style><table id=\"T_d9c5e9ba_b081_11ec_b7c4_3dfa876416fd\" ><thead>    <tr>        <th class=\"col_heading level0 col0\" >crescente</th>        <th class=\"col_heading level0 col1\" >aleatoria</th>        <th class=\"col_heading level0 col2\" >decrescente</th>        <th class=\"col_heading level0 col3\" >tamanhos</th>    </tr></thead><tbody>\n",
       "                <tr>\n",
       "                                <td id=\"T_d9c5e9ba_b081_11ec_b7c4_3dfa876416fdrow0_col0\" class=\"data row0 col0\" >0.012976</td>\n",
       "                        <td id=\"T_d9c5e9ba_b081_11ec_b7c4_3dfa876416fdrow0_col1\" class=\"data row0 col1\" >0.005299</td>\n",
       "                        <td id=\"T_d9c5e9ba_b081_11ec_b7c4_3dfa876416fdrow0_col2\" class=\"data row0 col2\" >0.004342</td>\n",
       "                        <td id=\"T_d9c5e9ba_b081_11ec_b7c4_3dfa876416fdrow0_col3\" class=\"data row0 col3\" >1000</td>\n",
       "            </tr>\n",
       "            <tr>\n",
       "                                <td id=\"T_d9c5e9ba_b081_11ec_b7c4_3dfa876416fdrow1_col0\" class=\"data row1 col0\" >0.013977</td>\n",
       "                        <td id=\"T_d9c5e9ba_b081_11ec_b7c4_3dfa876416fdrow1_col1\" class=\"data row1 col1\" >0.010451</td>\n",
       "                        <td id=\"T_d9c5e9ba_b081_11ec_b7c4_3dfa876416fdrow1_col2\" class=\"data row1 col2\" >0.010211</td>\n",
       "                        <td id=\"T_d9c5e9ba_b081_11ec_b7c4_3dfa876416fdrow1_col3\" class=\"data row1 col3\" >2000</td>\n",
       "            </tr>\n",
       "            <tr>\n",
       "                                <td id=\"T_d9c5e9ba_b081_11ec_b7c4_3dfa876416fdrow2_col0\" class=\"data row2 col0\" >0.008676</td>\n",
       "                        <td id=\"T_d9c5e9ba_b081_11ec_b7c4_3dfa876416fdrow2_col1\" class=\"data row2 col1\" >0.012994</td>\n",
       "                        <td id=\"T_d9c5e9ba_b081_11ec_b7c4_3dfa876416fdrow2_col2\" class=\"data row2 col2\" >0.014381</td>\n",
       "                        <td id=\"T_d9c5e9ba_b081_11ec_b7c4_3dfa876416fdrow2_col3\" class=\"data row2 col3\" >3000</td>\n",
       "            </tr>\n",
       "            <tr>\n",
       "                                <td id=\"T_d9c5e9ba_b081_11ec_b7c4_3dfa876416fdrow3_col0\" class=\"data row3 col0\" >0.005914</td>\n",
       "                        <td id=\"T_d9c5e9ba_b081_11ec_b7c4_3dfa876416fdrow3_col1\" class=\"data row3 col1\" >0.015699</td>\n",
       "                        <td id=\"T_d9c5e9ba_b081_11ec_b7c4_3dfa876416fdrow3_col2\" class=\"data row3 col2\" >0.015342</td>\n",
       "                        <td id=\"T_d9c5e9ba_b081_11ec_b7c4_3dfa876416fdrow3_col3\" class=\"data row3 col3\" >4000</td>\n",
       "            </tr>\n",
       "            <tr>\n",
       "                                <td id=\"T_d9c5e9ba_b081_11ec_b7c4_3dfa876416fdrow4_col0\" class=\"data row4 col0\" >0.007474</td>\n",
       "                        <td id=\"T_d9c5e9ba_b081_11ec_b7c4_3dfa876416fdrow4_col1\" class=\"data row4 col1\" >0.017439</td>\n",
       "                        <td id=\"T_d9c5e9ba_b081_11ec_b7c4_3dfa876416fdrow4_col2\" class=\"data row4 col2\" >0.019810</td>\n",
       "                        <td id=\"T_d9c5e9ba_b081_11ec_b7c4_3dfa876416fdrow4_col3\" class=\"data row4 col3\" >5000</td>\n",
       "            </tr>\n",
       "            <tr>\n",
       "                                <td id=\"T_d9c5e9ba_b081_11ec_b7c4_3dfa876416fdrow5_col0\" class=\"data row5 col0\" >0.010621</td>\n",
       "                        <td id=\"T_d9c5e9ba_b081_11ec_b7c4_3dfa876416fdrow5_col1\" class=\"data row5 col1\" >0.030159</td>\n",
       "                        <td id=\"T_d9c5e9ba_b081_11ec_b7c4_3dfa876416fdrow5_col2\" class=\"data row5 col2\" >0.028004</td>\n",
       "                        <td id=\"T_d9c5e9ba_b081_11ec_b7c4_3dfa876416fdrow5_col3\" class=\"data row5 col3\" >8000</td>\n",
       "            </tr>\n",
       "            <tr>\n",
       "                                <td id=\"T_d9c5e9ba_b081_11ec_b7c4_3dfa876416fdrow6_col0\" class=\"data row6 col0\" >0.030822</td>\n",
       "                        <td id=\"T_d9c5e9ba_b081_11ec_b7c4_3dfa876416fdrow6_col1\" class=\"data row6 col1\" >0.044608</td>\n",
       "                        <td id=\"T_d9c5e9ba_b081_11ec_b7c4_3dfa876416fdrow6_col2\" class=\"data row6 col2\" >0.040592</td>\n",
       "                        <td id=\"T_d9c5e9ba_b081_11ec_b7c4_3dfa876416fdrow6_col3\" class=\"data row6 col3\" >11000</td>\n",
       "            </tr>\n",
       "            <tr>\n",
       "                                <td id=\"T_d9c5e9ba_b081_11ec_b7c4_3dfa876416fdrow7_col0\" class=\"data row7 col0\" >0.041396</td>\n",
       "                        <td id=\"T_d9c5e9ba_b081_11ec_b7c4_3dfa876416fdrow7_col1\" class=\"data row7 col1\" >0.075749</td>\n",
       "                        <td id=\"T_d9c5e9ba_b081_11ec_b7c4_3dfa876416fdrow7_col2\" class=\"data row7 col2\" >0.060705</td>\n",
       "                        <td id=\"T_d9c5e9ba_b081_11ec_b7c4_3dfa876416fdrow7_col3\" class=\"data row7 col3\" >15000</td>\n",
       "            </tr>\n",
       "    </tbody></table>"
      ],
      "text/plain": [
       "<pandas.io.formats.style.Styler at 0x7f30143c7910>"
      ]
     },
     "execution_count": 5,
     "metadata": {},
     "output_type": "execute_result"
    }
   ],
   "source": [
    "data = dict()\n",
    "\n",
    "for ordem in ['crescente', 'aleatoria', 'decrescente']:\n",
    "  tempos = list()\n",
    "  for tamanho in LISTA_DE_TAMANHOS:\n",
    "    # Gerando amostra do teste\n",
    "    if ordem == 'crescente':\n",
    "      amostra = np.arange(tamanho, dtype=int)\n",
    "    elif ordem == 'decrescente':\n",
    "      amostra = np.arange(tamanho, dtype=int)[::-1].copy()\n",
    "    else:\n",
    "      amostra = np.random.randint(low=0, high=tamanho+1, size=tamanho)\n",
    "    \n",
    "    # testando performance\n",
    "    start = perf_counter()\n",
    "    bucket(amostra)\n",
    "    stop = perf_counter()\n",
    "    \n",
    "    # salvando resultado\n",
    "    tempos.append(stop - start)\n",
    "  data[ordem] = tempos\n",
    "data['tamanhos'] = LISTA_DE_TAMANHOS\n",
    "\n",
    "df = DataFrame(data=data)\n",
    "df.style.hide_index()"
   ]
  },
  {
   "cell_type": "markdown",
   "metadata": {},
   "source": [
    "## Resultados"
   ]
  },
  {
   "cell_type": "code",
   "execution_count": 6,
   "metadata": {},
   "outputs": [
    {
     "name": "stdout",
     "output_type": "stream",
     "text": [
      "O pior caso é quando a lista se encontra ordenada de forma aleatoria\n"
     ]
    },
    {
     "data": {
      "image/png": "[encoded data removed]",
      "text/plain": [
       "<Figure size 432x288 with 1 Axes>"
      ]
     },
     "metadata": {},
     "output_type": "display_data"
    }
   ],
   "source": [
    "# Remodela o dataframe para uma versão longa mais fácil de plotar\n",
    "long_df = df.melt(id_vars='tamanhos', var_name='ordenação', value_name='tempos')\n",
    "\n",
    "set_style('darkgrid')\n",
    "pointplot(\n",
    "  data=long_df,\n",
    "  x='tamanhos',\n",
    "  y='tempos',\n",
    "  hue='ordenação',\n",
    "  ).set(\n",
    "    xlabel='tamanho da amostra',\n",
    "    ylabel='tempo (s)',\n",
    "    title='TAMANHO DA LISTA X TEMPO DE ORDENAMENTO')\n",
    "\n",
    "ordem = long_df.sort_values(by='tempos', ascending=False)['ordenação'].values[0]\n",
    "print(f'O pior caso é quando a lista se encontra ordenada de forma {ordem}')"
   ]
  }
 ],
 "metadata": {
  "interpreter": {
   "hash": "693016dc5ced5e46019455416070247f0b819cdf42749c2078471f2d23992d13"
  },
  "kernelspec": {
   "display_name": "Python 3.7.6 ('base')",
   "language": "python",
   "name": "python3"
  },
  "language_info": {
   "codemirror_mode": {
    "name": "ipython",
    "version": 3
   },
   "file_extension": ".py",
   "mimetype": "text/x-python",
   "name": "python",
   "nbconvert_exporter": "python",
   "pygments_lexer": "ipython3",
   "version": "3.7.6"
  },
  "orig_nbformat": 4
 },
 "nbformat": 4,
 "nbformat_minor": 2
}
