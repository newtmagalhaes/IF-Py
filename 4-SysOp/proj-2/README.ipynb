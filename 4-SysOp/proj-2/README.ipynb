{
 "cells": [
  {
   "cell_type": "markdown",
   "metadata": {},
   "source": [
    "# Projeto II – Algoritmos de Substituição de Páginas\n",
    "\n",
    "- **Objetivo**: Simular os algoritmos de substituição de páginas **FIFO**, **Segunda Chance**, **NUR** e **MRU**, e gerar um gráfico mostrando a quantidade de acertos para cada um destes algoritmos quando a quantidade de _frames_ da memória real varia.\n",
    "\n",
    "## Entradas do Sistema:\n",
    "\n",
    "- Nome do arquivo que contém o padrão de referências no formato abaixo:\n",
    "  > 7W-2W-7R-4W-4R-2R-6R-6R-5W-2W-7R-0R-5W-6W-4R-5R-1R-1W-5W-\n",
    "\n",
    "- Quantidade de frames da memória real [Q1, Q2]:\n",
    "  - Para cada algoritmo, o programa deverá calcular a quantidade de acertos para cada um dos valores de Q1 a Q2, e a partir destes resultados gerar um gráfico.\n",
    "\n",
    "- Quantidade de referências em que o _SO_ zera o **bit R** de todas as páginas.\n",
    "  > Este parâmetro é utilizado pelos algoritmos **Segunda Chance** e **NUR**.\n"
   ]
  },
  {
   "cell_type": "code",
   "execution_count": null,
   "metadata": {},
   "outputs": [],
   "source": []
  },
  {
   "cell_type": "markdown",
   "metadata": {},
   "source": [
    "## Saídas:\n",
    "\n",
    "O programa deverá gerar um gráfico com os resultados obtidos para todos os algoritmos.\n",
    "\n",
    "O programa deverá também mostrar uma tabela contendo a quantidade de acertos de\n",
    "todos os algoritmos."
   ]
  },
  {
   "cell_type": "code",
   "execution_count": null,
   "metadata": {},
   "outputs": [],
   "source": []
  }
 ],
 "metadata": {
  "language_info": {
   "name": "python"
  },
  "orig_nbformat": 4
 },
 "nbformat": 4,
 "nbformat_minor": 2
}
