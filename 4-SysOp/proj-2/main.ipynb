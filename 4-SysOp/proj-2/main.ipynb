{
 "cells": [
  {
   "cell_type": "markdown",
   "metadata": {},
   "source": [
    "# Projeto II – Algoritmos de Substituição de Páginas\n",
    "\n",
    "- **Objetivo**: Simular os algoritmos de substituição de páginas **FIFO**, **Segunda Chance**, **NUR** e **MRU**, e gerar um gráfico mostrando a quantidade de acertos para cada um destes algoritmos quando a quantidade de _frames_ da memória real varia.\n",
    "\n",
    "## Entradas do Sistema:\n",
    "\n",
    "- Nome do arquivo que contém o padrão de referências no formato abaixo:\n",
    "  > 7W-2W-7R-4W-4R-2R-6R-6R-5W-2W-7R-0R-5W-6W-4R-5R-1R-1W-5W-\n",
    "\n",
    "- Quantidade de frames da memória real [Q1, Q2]:\n",
    "  - Para cada algoritmo, o programa deverá calcular a quantidade de acertos para cada um dos valores de Q1 a Q2, e a partir destes resultados gerar um gráfico.\n",
    "\n",
    "- Quantidade de referências em que o _SO_ zera o **bit R** de todas as páginas.\n",
    "  > Este parâmetro é utilizado pelos algoritmos **Segunda Chance** e **NUR**.\n"
   ]
  },
  {
   "cell_type": "code",
   "execution_count": null,
   "metadata": {},
   "outputs": [],
   "source": []
  },
  {
   "cell_type": "markdown",
   "metadata": {},
   "source": [
    "## Saídas:\n",
    "\n",
    "O programa deverá gerar um gráfico com os resultados obtidos para todos os algoritmos.\n",
    "\n",
    "O programa deverá também mostrar uma tabela contendo a quantidade de acertos de\n",
    "todos os algoritmos."
   ]
  },
  {
   "cell_type": "code",
   "execution_count": 14,
   "metadata": {},
   "outputs": [
    {
     "name": "stdout",
     "output_type": "stream",
     "text": [
      "    frames algoritmos  acertos\n",
      "0       50       FIFO      480\n",
      "1       70       FIFO      622\n",
      "2       90       FIFO      833\n",
      "3       50         SC      488\n",
      "4       70         SC      666\n",
      "5       90         SC      837\n",
      "6       50        MRU      478\n",
      "7       70        MRU      657\n",
      "8       90        MRU      824\n",
      "9       50        NUR      484\n",
      "10      70        NUR      671\n",
      "11      90        NUR      839\n"
     ]
    },
    {
     "data": {
      "text/html": [
       "<div>\n",
       "<style scoped>\n",
       "    .dataframe tbody tr th:only-of-type {\n",
       "        vertical-align: middle;\n",
       "    }\n",
       "\n",
       "    .dataframe tbody tr th {\n",
       "        vertical-align: top;\n",
       "    }\n",
       "\n",
       "    .dataframe thead th {\n",
       "        text-align: right;\n",
       "    }\n",
       "</style>\n",
       "<table border=\"1\" class=\"dataframe\">\n",
       "  <thead>\n",
       "    <tr style=\"text-align: right;\">\n",
       "      <th></th>\n",
       "      <th>frames</th>\n",
       "      <th>FIFO</th>\n",
       "      <th>SC</th>\n",
       "      <th>MRU</th>\n",
       "      <th>NUR</th>\n",
       "    </tr>\n",
       "  </thead>\n",
       "  <tbody>\n",
       "    <tr>\n",
       "      <th>0</th>\n",
       "      <td>50</td>\n",
       "      <td>480</td>\n",
       "      <td>488</td>\n",
       "      <td>478</td>\n",
       "      <td>484</td>\n",
       "    </tr>\n",
       "    <tr>\n",
       "      <th>1</th>\n",
       "      <td>70</td>\n",
       "      <td>622</td>\n",
       "      <td>666</td>\n",
       "      <td>657</td>\n",
       "      <td>671</td>\n",
       "    </tr>\n",
       "    <tr>\n",
       "      <th>2</th>\n",
       "      <td>90</td>\n",
       "      <td>833</td>\n",
       "      <td>837</td>\n",
       "      <td>824</td>\n",
       "      <td>839</td>\n",
       "    </tr>\n",
       "  </tbody>\n",
       "</table>\n",
       "</div>"
      ],
      "text/plain": [
       "   frames  FIFO   SC  MRU  NUR\n",
       "0      50   480  488  478  484\n",
       "1      70   622  666  657  671\n",
       "2      90   833  837  824  839"
      ]
     },
     "execution_count": 14,
     "metadata": {},
     "output_type": "execute_result"
    }
   ],
   "source": [
    "import pandas as pd\n",
    "from seaborn import pointplot, set_style\n",
    "\n",
    "excel = {'frames':[50, 70, 90],\n",
    "         'FIFO':[480, 662, 833],\n",
    "         'SC':  [488, 666, 837],\n",
    "         'MRU': [478, 657, 824],\n",
    "         'NUR': [484, 671, 839]}\n",
    "\n",
    "df = pd.DataFrame(excel)\n",
    "long_df = df.melt('frames', var_name='algoritmos', value_name='acertos')\n",
    "\n",
    "# pointplot(data=df, hue='algoritmos')\n",
    "print(long_df)\n",
    "df"
   ]
  },
  {
   "cell_type": "code",
   "execution_count": 15,
   "metadata": {},
   "outputs": [
    {
     "data": {
      "text/plain": [
       "<AxesSubplot:xlabel='frames', ylabel='acertos'>"
      ]
     },
     "execution_count": 15,
     "metadata": {},
     "output_type": "execute_result"
    },
    {
     "data": {
      "image/png": "[encoded data removed]",
      "text/plain": [
       "<Figure size 432x288 with 1 Axes>"
      ]
     },
     "metadata": {},
     "output_type": "display_data"
    }
   ],
   "source": [
    "set_style('darkgrid')\n",
    "pointplot(data=long_df, x='frames', y='acertos', hue='algoritmos')"
   ]
  }
 ],
 "metadata": {
  "interpreter": {
   "hash": "693016dc5ced5e46019455416070247f0b819cdf42749c2078471f2d23992d13"
  },
  "kernelspec": {
   "display_name": "Python 3.7.6 64-bit ('base': conda)",
   "language": "python",
   "name": "python3"
  },
  "language_info": {
   "codemirror_mode": {
    "name": "ipython",
    "version": 3
   },
   "file_extension": ".py",
   "mimetype": "text/x-python",
   "name": "python",
   "nbconvert_exporter": "python",
   "pygments_lexer": "ipython3",
   "version": "3.7.6"
  },
  "orig_nbformat": 4
 },
 "nbformat": 4,
 "nbformat_minor": 2
}
